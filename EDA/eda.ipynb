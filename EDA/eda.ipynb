{
 "cells": [
  {
   "cell_type": "code",
   "execution_count": 2,
   "id": "fc8c52a8-b612-451a-9091-fafed4b62d34",
   "metadata": {},
   "outputs": [],
   "source": [
    "import numpy as np\n",
    "import pandas as pd\n",
    "import matplotlib.pyplot as plt\n",
    "import seaborn as sns\n",
    "from warnings import filterwarnings\n",
    "filterwarnings('ignore')\n",
    "plt.style.use(\"ggplot\")\n",
    "pd.options.display.max_columns = 999"
   ]
  },
  {
   "cell_type": "code",
   "execution_count": 3,
   "id": "58c04303-a163-4fdd-93cf-ebc25e90a516",
   "metadata": {},
   "outputs": [],
   "source": [
    "dtype = {\n",
    "    'userID': 'int16',\n",
    "    'answerCode': 'int8',\n",
    "    'KnowledgeTag': 'int16'\n",
    "}   \n",
    "\n",
    "TRAIN_DATA_PATH = \"train_data.csv\"\n",
    "TEST_DATA_PATH = \"test_data.csv\"\n",
    "\n",
    "train = pd.read_csv(TRAIN_DATA_PATH, dtype=dtype, parse_dates=['Timestamp'])\n",
    "train = train.sort_values(by=['userID', 'Timestamp']).reset_index(drop=True)\n",
    "\n",
    "test = pd.read_csv(TEST_DATA_PATH, dtype=dtype, parse_dates=['Timestamp'])\n",
    "test = test.sort_values(by=['userID', 'Timestamp']).reset_index(drop=True)"
   ]
  },
  {
   "cell_type": "code",
   "execution_count": 16,
   "id": "3d571a26-eabf-43e5-9af4-0abb3c59c945",
   "metadata": {},
   "outputs": [
    {
     "output_type": "stream",
     "name": "stdout",
     "text": [
      "-------------- train dataset --------------\n",
      "user 명수            : 6698 명\n",
      "assesmentItemID 종류 : 9454\n",
      "test_id 시험지 종류    : 1537\n",
      "정답률                : 65.4 %\n",
      "KnowledgeTag 종류    : 912\n",
      "-------------- test  dataset --------------\n",
      "user 명수            : 744 명\n",
      "assesmentItemID 종류 : 9454\n",
      "test_id 시험지 종류    : 1537\n",
      "정답률                : 65.2 %\n",
      "KnowledgeTag 종류    : 912\n"
     ]
    }
   ],
   "source": [
    "print(f\"-------------- train dataset --------------\")\n",
    "int(f\"-------------- train dataset --------------\")\n",
    "print(f\"user 명수            : {train.userID.nunique()} 명\")\n",
    "print(f\"assesmentItemID 종류 : {train.assessmentItemID.nunique()}\")\n",
    "print(f\"test_id 시험지 종류    : {train.testId.nunique()}\")\n",
    "print(f\"정답률                : {train.answerCode.sum() / train.shape[0] * 100:.1f} %\")\n",
    "print(f\"KnowledgeTag 종류    : {train.KnowledgeTag.nunique()}\")\n",
    "print(f\"-------------- test  dataset --------------\")\n",
    "print(f\"user 명수            : {test.userID.nunique()} 명\")\n",
    "print(f\"assesmentItemID 종류 : {test.assessmentItemID.nunique()}\")\n",
    "print(f\"test_id 시험지 종류    : {test.testId.nunique()}\")\n",
    "print(f\"정답률                : {test.answerCode.sum() / test.shape[0] * 100:.1f} %\")\n",
    "print(f\"KnowledgeTag 종류    : {test.KnowledgeTag.nunique()}\")"
   ]
  },
  {
   "cell_type": "code",
   "execution_count": 451,
   "id": "65696a1a-af26-475a-abcf-63cc5dadbef5",
   "metadata": {},
   "outputs": [],
   "source": [
    "train['month'] = train['Timestamp'].dt.month\n",
    "train['day'] = train['Timestamp'].dt.day\n",
    "train['hour'] = train['Timestamp'].dt.hour\n",
    "train['minute'] = train['Timestamp'].dt.minute\n",
    "train['second'] = train['Timestamp'].dt.second"
   ]
  },
  {
   "cell_type": "code",
   "execution_count": 452,
   "id": "94eb4995-9287-4edf-8cb2-04e55ebae87b",
   "metadata": {},
   "outputs": [],
   "source": [
    "train['test_group'] = train['testId'].apply(lambda x: x[2])"
   ]
  },
  {
   "cell_type": "markdown",
   "id": "b8d1e94e-4e97-4246-ad6b-07884b4ad9db",
   "metadata": {},
   "source": [
    "## statistical"
   ]
  },
  {
   "cell_type": "markdown",
   "id": "0dd23cc3-bc10-43fa-9f96-e2c5a726b0dc",
   "metadata": {},
   "source": [
    "### 1) User 에 따른 통계량"
   ]
  },
  {
   "cell_type": "code",
   "execution_count": 21,
   "id": "4a9d50a6-ef62-4331-93d0-1e82e61e8b17",
   "metadata": {},
   "outputs": [
    {
     "output_type": "display_data",
     "data": {
      "text/plain": "<Figure size 1152x360 with 1 Axes>",
      "image/svg+xml": "<?xml version=\"1.0\" encoding=\"utf-8\" standalone=\"no\"?>\n<!DOCTYPE svg PUBLIC \"-//W3C//DTD SVG 1.1//EN\"\n  \"http://www.w3.org/Graphics/SVG/1.1/DTD/svg11.dtd\">\n<!-- Created with matplotlib (https://matplotlib.org/) -->\n<svg height=\"339.68875pt\" version=\"1.1\" viewBox=\"0 0 948.90125 339.68875\" width=\"948.90125pt\" xmlns=\"http://www.w3.org/2000/svg\" xmlns:xlink=\"http://www.w3.org/1999/xlink\">\n <defs>\n  <style type=\"text/css\">\n*{stroke-linecap:butt;stroke-linejoin:round;}\n  </style>\n </defs>\n <g id=\"figure_1\">\n  <g id=\"patch_1\">\n   <path d=\"M 0 339.68875 \nL 948.90125 339.68875 \nL 948.90125 0 \nL 0 0 \nz\n\" style=\"fill:#ffffff;\"/>\n  </g>\n  <g id=\"axes_1\">\n   <g id=\"patch_2\">\n    <path d=\"M 48.90125 300.196875 \nL 941.70125 300.196875 \nL 941.70125 28.396875 \nL 48.90125 28.396875 \nz\n\" style=\"fill:#e5e5e5;\"/>\n   </g>\n   <g id=\"matplotlib.axis_1\">\n    <g id=\"xtick_1\">\n     <g id=\"line2d_1\">\n      <path clip-path=\"url(#p32c9e3fb15)\" d=\"M 84.92113 300.196875 \nL 84.92113 28.396875 \n\" style=\"fill:none;stroke:#ffffff;stroke-linecap:square;stroke-width:0.8;\"/>\n     </g>\n     <g id=\"line2d_2\">\n      <defs>\n       <path d=\"M 0 0 \nL 0 3.5 \n\" id=\"m0b786e82c7\" style=\"stroke:#555555;stroke-width:0.8;\"/>\n      </defs>\n      <g>\n       <use style=\"fill:#555555;stroke:#555555;stroke-width:0.8;\" x=\"84.92113\" xlink:href=\"#m0b786e82c7\" y=\"300.196875\"/>\n      </g>\n     </g>\n     <g id=\"text_1\">\n      <!-- 0 -->\n      <defs>\n       <path d=\"M 31.78125 66.40625 \nQ 24.171875 66.40625 20.328125 58.90625 \nQ 16.5 51.421875 16.5 36.375 \nQ 16.5 21.390625 20.328125 13.890625 \nQ 24.171875 6.390625 31.78125 6.390625 \nQ 39.453125 6.390625 43.28125 13.890625 \nQ 47.125 21.390625 47.125 36.375 \nQ 47.125 51.421875 43.28125 58.90625 \nQ 39.453125 66.40625 31.78125 66.40625 \nz\nM 31.78125 74.21875 \nQ 44.046875 74.21875 50.515625 64.515625 \nQ 56.984375 54.828125 56.984375 36.375 \nQ 56.984375 17.96875 50.515625 8.265625 \nQ 44.046875 -1.421875 31.78125 -1.421875 \nQ 19.53125 -1.421875 13.0625 8.265625 \nQ 6.59375 17.96875 6.59375 36.375 \nQ 6.59375 54.828125 13.0625 64.515625 \nQ 19.53125 74.21875 31.78125 74.21875 \nz\n\" id=\"DejaVuSans-48\"/>\n      </defs>\n      <g style=\"fill:#555555;\" transform=\"translate(81.73988 314.795312)scale(0.1 -0.1)\">\n       <use xlink:href=\"#DejaVuSans-48\"/>\n      </g>\n     </g>\n    </g>\n    <g id=\"xtick_2\">\n     <g id=\"line2d_3\">\n      <path clip-path=\"url(#p32c9e3fb15)\" d=\"M 194.707144 300.196875 \nL 194.707144 28.396875 \n\" style=\"fill:none;stroke:#ffffff;stroke-linecap:square;stroke-width:0.8;\"/>\n     </g>\n     <g id=\"line2d_4\">\n      <g>\n       <use style=\"fill:#555555;stroke:#555555;stroke-width:0.8;\" x=\"194.707144\" xlink:href=\"#m0b786e82c7\" y=\"300.196875\"/>\n      </g>\n     </g>\n     <g id=\"text_2\">\n      <!-- 250 -->\n      <defs>\n       <path d=\"M 19.1875 8.296875 \nL 53.609375 8.296875 \nL 53.609375 0 \nL 7.328125 0 \nL 7.328125 8.296875 \nQ 12.9375 14.109375 22.625 23.890625 \nQ 32.328125 33.6875 34.8125 36.53125 \nQ 39.546875 41.84375 41.421875 45.53125 \nQ 43.3125 49.21875 43.3125 52.78125 \nQ 43.3125 58.59375 39.234375 62.25 \nQ 35.15625 65.921875 28.609375 65.921875 \nQ 23.96875 65.921875 18.8125 64.3125 \nQ 13.671875 62.703125 7.8125 59.421875 \nL 7.8125 69.390625 \nQ 13.765625 71.78125 18.9375 73 \nQ 24.125 74.21875 28.421875 74.21875 \nQ 39.75 74.21875 46.484375 68.546875 \nQ 53.21875 62.890625 53.21875 53.421875 \nQ 53.21875 48.921875 51.53125 44.890625 \nQ 49.859375 40.875 45.40625 35.40625 \nQ 44.1875 33.984375 37.640625 27.21875 \nQ 31.109375 20.453125 19.1875 8.296875 \nz\n\" id=\"DejaVuSans-50\"/>\n       <path d=\"M 10.796875 72.90625 \nL 49.515625 72.90625 \nL 49.515625 64.59375 \nL 19.828125 64.59375 \nL 19.828125 46.734375 \nQ 21.96875 47.46875 24.109375 47.828125 \nQ 26.265625 48.1875 28.421875 48.1875 \nQ 40.625 48.1875 47.75 41.5 \nQ 54.890625 34.8125 54.890625 23.390625 \nQ 54.890625 11.625 47.5625 5.09375 \nQ 40.234375 -1.421875 26.90625 -1.421875 \nQ 22.3125 -1.421875 17.546875 -0.640625 \nQ 12.796875 0.140625 7.71875 1.703125 \nL 7.71875 11.625 \nQ 12.109375 9.234375 16.796875 8.0625 \nQ 21.484375 6.890625 26.703125 6.890625 \nQ 35.15625 6.890625 40.078125 11.328125 \nQ 45.015625 15.765625 45.015625 23.390625 \nQ 45.015625 31 40.078125 35.4375 \nQ 35.15625 39.890625 26.703125 39.890625 \nQ 22.75 39.890625 18.8125 39.015625 \nQ 14.890625 38.140625 10.796875 36.28125 \nz\n\" id=\"DejaVuSans-53\"/>\n      </defs>\n      <g style=\"fill:#555555;\" transform=\"translate(185.163394 314.795312)scale(0.1 -0.1)\">\n       <use xlink:href=\"#DejaVuSans-50\"/>\n       <use x=\"63.623047\" xlink:href=\"#DejaVuSans-53\"/>\n       <use x=\"127.246094\" xlink:href=\"#DejaVuSans-48\"/>\n      </g>\n     </g>\n    </g>\n    <g id=\"xtick_3\">\n     <g id=\"line2d_5\">\n      <path clip-path=\"url(#p32c9e3fb15)\" d=\"M 304.493158 300.196875 \nL 304.493158 28.396875 \n\" style=\"fill:none;stroke:#ffffff;stroke-linecap:square;stroke-width:0.8;\"/>\n     </g>\n     <g id=\"line2d_6\">\n      <g>\n       <use style=\"fill:#555555;stroke:#555555;stroke-width:0.8;\" x=\"304.493158\" xlink:href=\"#m0b786e82c7\" y=\"300.196875\"/>\n      </g>\n     </g>\n     <g id=\"text_3\">\n      <!-- 500 -->\n      <g style=\"fill:#555555;\" transform=\"translate(294.949408 314.795312)scale(0.1 -0.1)\">\n       <use xlink:href=\"#DejaVuSans-53\"/>\n       <use x=\"63.623047\" xlink:href=\"#DejaVuSans-48\"/>\n       <use x=\"127.246094\" xlink:href=\"#DejaVuSans-48\"/>\n      </g>\n     </g>\n    </g>\n    <g id=\"xtick_4\">\n     <g id=\"line2d_7\">\n      <path clip-path=\"url(#p32c9e3fb15)\" d=\"M 414.279172 300.196875 \nL 414.279172 28.396875 \n\" style=\"fill:none;stroke:#ffffff;stroke-linecap:square;stroke-width:0.8;\"/>\n     </g>\n     <g id=\"line2d_8\">\n      <g>\n       <use style=\"fill:#555555;stroke:#555555;stroke-width:0.8;\" x=\"414.279172\" xlink:href=\"#m0b786e82c7\" y=\"300.196875\"/>\n      </g>\n     </g>\n     <g id=\"text_4\">\n      <!-- 750 -->\n      <defs>\n       <path d=\"M 8.203125 72.90625 \nL 55.078125 72.90625 \nL 55.078125 68.703125 \nL 28.609375 0 \nL 18.3125 0 \nL 43.21875 64.59375 \nL 8.203125 64.59375 \nz\n\" id=\"DejaVuSans-55\"/>\n      </defs>\n      <g style=\"fill:#555555;\" transform=\"translate(404.735422 314.795312)scale(0.1 -0.1)\">\n       <use xlink:href=\"#DejaVuSans-55\"/>\n       <use x=\"63.623047\" xlink:href=\"#DejaVuSans-53\"/>\n       <use x=\"127.246094\" xlink:href=\"#DejaVuSans-48\"/>\n      </g>\n     </g>\n    </g>\n    <g id=\"xtick_5\">\n     <g id=\"line2d_9\">\n      <path clip-path=\"url(#p32c9e3fb15)\" d=\"M 524.065186 300.196875 \nL 524.065186 28.396875 \n\" style=\"fill:none;stroke:#ffffff;stroke-linecap:square;stroke-width:0.8;\"/>\n     </g>\n     <g id=\"line2d_10\">\n      <g>\n       <use style=\"fill:#555555;stroke:#555555;stroke-width:0.8;\" x=\"524.065186\" xlink:href=\"#m0b786e82c7\" y=\"300.196875\"/>\n      </g>\n     </g>\n     <g id=\"text_5\">\n      <!-- 1000 -->\n      <defs>\n       <path d=\"M 12.40625 8.296875 \nL 28.515625 8.296875 \nL 28.515625 63.921875 \nL 10.984375 60.40625 \nL 10.984375 69.390625 \nL 28.421875 72.90625 \nL 38.28125 72.90625 \nL 38.28125 8.296875 \nL 54.390625 8.296875 \nL 54.390625 0 \nL 12.40625 0 \nz\n\" id=\"DejaVuSans-49\"/>\n      </defs>\n      <g style=\"fill:#555555;\" transform=\"translate(511.340186 314.795312)scale(0.1 -0.1)\">\n       <use xlink:href=\"#DejaVuSans-49\"/>\n       <use x=\"63.623047\" xlink:href=\"#DejaVuSans-48\"/>\n       <use x=\"127.246094\" xlink:href=\"#DejaVuSans-48\"/>\n       <use x=\"190.869141\" xlink:href=\"#DejaVuSans-48\"/>\n      </g>\n     </g>\n    </g>\n    <g id=\"xtick_6\">\n     <g id=\"line2d_11\">\n      <path clip-path=\"url(#p32c9e3fb15)\" d=\"M 633.8512 300.196875 \nL 633.8512 28.396875 \n\" style=\"fill:none;stroke:#ffffff;stroke-linecap:square;stroke-width:0.8;\"/>\n     </g>\n     <g id=\"line2d_12\">\n      <g>\n       <use style=\"fill:#555555;stroke:#555555;stroke-width:0.8;\" x=\"633.8512\" xlink:href=\"#m0b786e82c7\" y=\"300.196875\"/>\n      </g>\n     </g>\n     <g id=\"text_6\">\n      <!-- 1250 -->\n      <g style=\"fill:#555555;\" transform=\"translate(621.1262 314.795312)scale(0.1 -0.1)\">\n       <use xlink:href=\"#DejaVuSans-49\"/>\n       <use x=\"63.623047\" xlink:href=\"#DejaVuSans-50\"/>\n       <use x=\"127.246094\" xlink:href=\"#DejaVuSans-53\"/>\n       <use x=\"190.869141\" xlink:href=\"#DejaVuSans-48\"/>\n      </g>\n     </g>\n    </g>\n    <g id=\"xtick_7\">\n     <g id=\"line2d_13\">\n      <path clip-path=\"url(#p32c9e3fb15)\" d=\"M 743.637214 300.196875 \nL 743.637214 28.396875 \n\" style=\"fill:none;stroke:#ffffff;stroke-linecap:square;stroke-width:0.8;\"/>\n     </g>\n     <g id=\"line2d_14\">\n      <g>\n       <use style=\"fill:#555555;stroke:#555555;stroke-width:0.8;\" x=\"743.637214\" xlink:href=\"#m0b786e82c7\" y=\"300.196875\"/>\n      </g>\n     </g>\n     <g id=\"text_7\">\n      <!-- 1500 -->\n      <g style=\"fill:#555555;\" transform=\"translate(730.912214 314.795312)scale(0.1 -0.1)\">\n       <use xlink:href=\"#DejaVuSans-49\"/>\n       <use x=\"63.623047\" xlink:href=\"#DejaVuSans-53\"/>\n       <use x=\"127.246094\" xlink:href=\"#DejaVuSans-48\"/>\n       <use x=\"190.869141\" xlink:href=\"#DejaVuSans-48\"/>\n      </g>\n     </g>\n    </g>\n    <g id=\"xtick_8\">\n     <g id=\"line2d_15\">\n      <path clip-path=\"url(#p32c9e3fb15)\" d=\"M 853.423227 300.196875 \nL 853.423227 28.396875 \n\" style=\"fill:none;stroke:#ffffff;stroke-linecap:square;stroke-width:0.8;\"/>\n     </g>\n     <g id=\"line2d_16\">\n      <g>\n       <use style=\"fill:#555555;stroke:#555555;stroke-width:0.8;\" x=\"853.423227\" xlink:href=\"#m0b786e82c7\" y=\"300.196875\"/>\n      </g>\n     </g>\n     <g id=\"text_8\">\n      <!-- 1750 -->\n      <g style=\"fill:#555555;\" transform=\"translate(840.698227 314.795312)scale(0.1 -0.1)\">\n       <use xlink:href=\"#DejaVuSans-49\"/>\n       <use x=\"63.623047\" xlink:href=\"#DejaVuSans-55\"/>\n       <use x=\"127.246094\" xlink:href=\"#DejaVuSans-53\"/>\n       <use x=\"190.869141\" xlink:href=\"#DejaVuSans-48\"/>\n      </g>\n     </g>\n    </g>\n    <g id=\"text_9\">\n     <!-- number of prob -->\n     <defs>\n      <path d=\"M 54.890625 33.015625 \nL 54.890625 0 \nL 45.90625 0 \nL 45.90625 32.71875 \nQ 45.90625 40.484375 42.875 44.328125 \nQ 39.84375 48.1875 33.796875 48.1875 \nQ 26.515625 48.1875 22.3125 43.546875 \nQ 18.109375 38.921875 18.109375 30.90625 \nL 18.109375 0 \nL 9.078125 0 \nL 9.078125 54.6875 \nL 18.109375 54.6875 \nL 18.109375 46.1875 \nQ 21.34375 51.125 25.703125 53.5625 \nQ 30.078125 56 35.796875 56 \nQ 45.21875 56 50.046875 50.171875 \nQ 54.890625 44.34375 54.890625 33.015625 \nz\n\" id=\"DejaVuSans-110\"/>\n      <path d=\"M 8.5 21.578125 \nL 8.5 54.6875 \nL 17.484375 54.6875 \nL 17.484375 21.921875 \nQ 17.484375 14.15625 20.5 10.265625 \nQ 23.53125 6.390625 29.59375 6.390625 \nQ 36.859375 6.390625 41.078125 11.03125 \nQ 45.3125 15.671875 45.3125 23.6875 \nL 45.3125 54.6875 \nL 54.296875 54.6875 \nL 54.296875 0 \nL 45.3125 0 \nL 45.3125 8.40625 \nQ 42.046875 3.421875 37.71875 1 \nQ 33.40625 -1.421875 27.6875 -1.421875 \nQ 18.265625 -1.421875 13.375 4.4375 \nQ 8.5 10.296875 8.5 21.578125 \nz\nM 31.109375 56 \nz\n\" id=\"DejaVuSans-117\"/>\n      <path d=\"M 52 44.1875 \nQ 55.375 50.25 60.0625 53.125 \nQ 64.75 56 71.09375 56 \nQ 79.640625 56 84.28125 50.015625 \nQ 88.921875 44.046875 88.921875 33.015625 \nL 88.921875 0 \nL 79.890625 0 \nL 79.890625 32.71875 \nQ 79.890625 40.578125 77.09375 44.375 \nQ 74.3125 48.1875 68.609375 48.1875 \nQ 61.625 48.1875 57.5625 43.546875 \nQ 53.515625 38.921875 53.515625 30.90625 \nL 53.515625 0 \nL 44.484375 0 \nL 44.484375 32.71875 \nQ 44.484375 40.625 41.703125 44.40625 \nQ 38.921875 48.1875 33.109375 48.1875 \nQ 26.21875 48.1875 22.15625 43.53125 \nQ 18.109375 38.875 18.109375 30.90625 \nL 18.109375 0 \nL 9.078125 0 \nL 9.078125 54.6875 \nL 18.109375 54.6875 \nL 18.109375 46.1875 \nQ 21.1875 51.21875 25.484375 53.609375 \nQ 29.78125 56 35.6875 56 \nQ 41.65625 56 45.828125 52.96875 \nQ 50 49.953125 52 44.1875 \nz\n\" id=\"DejaVuSans-109\"/>\n      <path d=\"M 48.6875 27.296875 \nQ 48.6875 37.203125 44.609375 42.84375 \nQ 40.53125 48.484375 33.40625 48.484375 \nQ 26.265625 48.484375 22.1875 42.84375 \nQ 18.109375 37.203125 18.109375 27.296875 \nQ 18.109375 17.390625 22.1875 11.75 \nQ 26.265625 6.109375 33.40625 6.109375 \nQ 40.53125 6.109375 44.609375 11.75 \nQ 48.6875 17.390625 48.6875 27.296875 \nz\nM 18.109375 46.390625 \nQ 20.953125 51.265625 25.265625 53.625 \nQ 29.59375 56 35.59375 56 \nQ 45.5625 56 51.78125 48.09375 \nQ 58.015625 40.1875 58.015625 27.296875 \nQ 58.015625 14.40625 51.78125 6.484375 \nQ 45.5625 -1.421875 35.59375 -1.421875 \nQ 29.59375 -1.421875 25.265625 0.953125 \nQ 20.953125 3.328125 18.109375 8.203125 \nL 18.109375 0 \nL 9.078125 0 \nL 9.078125 75.984375 \nL 18.109375 75.984375 \nz\n\" id=\"DejaVuSans-98\"/>\n      <path d=\"M 56.203125 29.59375 \nL 56.203125 25.203125 \nL 14.890625 25.203125 \nQ 15.484375 15.921875 20.484375 11.0625 \nQ 25.484375 6.203125 34.421875 6.203125 \nQ 39.59375 6.203125 44.453125 7.46875 \nQ 49.3125 8.734375 54.109375 11.28125 \nL 54.109375 2.78125 \nQ 49.265625 0.734375 44.1875 -0.34375 \nQ 39.109375 -1.421875 33.890625 -1.421875 \nQ 20.796875 -1.421875 13.15625 6.1875 \nQ 5.515625 13.8125 5.515625 26.8125 \nQ 5.515625 40.234375 12.765625 48.109375 \nQ 20.015625 56 32.328125 56 \nQ 43.359375 56 49.78125 48.890625 \nQ 56.203125 41.796875 56.203125 29.59375 \nz\nM 47.21875 32.234375 \nQ 47.125 39.59375 43.09375 43.984375 \nQ 39.0625 48.390625 32.421875 48.390625 \nQ 24.90625 48.390625 20.390625 44.140625 \nQ 15.875 39.890625 15.1875 32.171875 \nz\n\" id=\"DejaVuSans-101\"/>\n      <path d=\"M 41.109375 46.296875 \nQ 39.59375 47.171875 37.8125 47.578125 \nQ 36.03125 48 33.890625 48 \nQ 26.265625 48 22.1875 43.046875 \nQ 18.109375 38.09375 18.109375 28.8125 \nL 18.109375 0 \nL 9.078125 0 \nL 9.078125 54.6875 \nL 18.109375 54.6875 \nL 18.109375 46.1875 \nQ 20.953125 51.171875 25.484375 53.578125 \nQ 30.03125 56 36.53125 56 \nQ 37.453125 56 38.578125 55.875 \nQ 39.703125 55.765625 41.0625 55.515625 \nz\n\" id=\"DejaVuSans-114\"/>\n      <path id=\"DejaVuSans-32\"/>\n      <path d=\"M 30.609375 48.390625 \nQ 23.390625 48.390625 19.1875 42.75 \nQ 14.984375 37.109375 14.984375 27.296875 \nQ 14.984375 17.484375 19.15625 11.84375 \nQ 23.34375 6.203125 30.609375 6.203125 \nQ 37.796875 6.203125 41.984375 11.859375 \nQ 46.1875 17.53125 46.1875 27.296875 \nQ 46.1875 37.015625 41.984375 42.703125 \nQ 37.796875 48.390625 30.609375 48.390625 \nz\nM 30.609375 56 \nQ 42.328125 56 49.015625 48.375 \nQ 55.71875 40.765625 55.71875 27.296875 \nQ 55.71875 13.875 49.015625 6.21875 \nQ 42.328125 -1.421875 30.609375 -1.421875 \nQ 18.84375 -1.421875 12.171875 6.21875 \nQ 5.515625 13.875 5.515625 27.296875 \nQ 5.515625 40.765625 12.171875 48.375 \nQ 18.84375 56 30.609375 56 \nz\n\" id=\"DejaVuSans-111\"/>\n      <path d=\"M 37.109375 75.984375 \nL 37.109375 68.5 \nL 28.515625 68.5 \nQ 23.6875 68.5 21.796875 66.546875 \nQ 19.921875 64.59375 19.921875 59.515625 \nL 19.921875 54.6875 \nL 34.71875 54.6875 \nL 34.71875 47.703125 \nL 19.921875 47.703125 \nL 19.921875 0 \nL 10.890625 0 \nL 10.890625 47.703125 \nL 2.296875 47.703125 \nL 2.296875 54.6875 \nL 10.890625 54.6875 \nL 10.890625 58.5 \nQ 10.890625 67.625 15.140625 71.796875 \nQ 19.390625 75.984375 28.609375 75.984375 \nz\n\" id=\"DejaVuSans-102\"/>\n      <path d=\"M 18.109375 8.203125 \nL 18.109375 -20.796875 \nL 9.078125 -20.796875 \nL 9.078125 54.6875 \nL 18.109375 54.6875 \nL 18.109375 46.390625 \nQ 20.953125 51.265625 25.265625 53.625 \nQ 29.59375 56 35.59375 56 \nQ 45.5625 56 51.78125 48.09375 \nQ 58.015625 40.1875 58.015625 27.296875 \nQ 58.015625 14.40625 51.78125 6.484375 \nQ 45.5625 -1.421875 35.59375 -1.421875 \nQ 29.59375 -1.421875 25.265625 0.953125 \nQ 20.953125 3.328125 18.109375 8.203125 \nz\nM 48.6875 27.296875 \nQ 48.6875 37.203125 44.609375 42.84375 \nQ 40.53125 48.484375 33.40625 48.484375 \nQ 26.265625 48.484375 22.1875 42.84375 \nQ 18.109375 37.203125 18.109375 27.296875 \nQ 18.109375 17.390625 22.1875 11.75 \nQ 26.265625 6.109375 33.40625 6.109375 \nQ 40.53125 6.109375 44.609375 11.75 \nQ 48.6875 17.390625 48.6875 27.296875 \nz\n\" id=\"DejaVuSans-112\"/>\n     </defs>\n     <g style=\"fill:#555555;\" transform=\"translate(448.66625 329.993125)scale(0.12 -0.12)\">\n      <use xlink:href=\"#DejaVuSans-110\"/>\n      <use x=\"63.378906\" xlink:href=\"#DejaVuSans-117\"/>\n      <use x=\"126.757812\" xlink:href=\"#DejaVuSans-109\"/>\n      <use x=\"224.169922\" xlink:href=\"#DejaVuSans-98\"/>\n      <use x=\"287.646484\" xlink:href=\"#DejaVuSans-101\"/>\n      <use x=\"349.169922\" xlink:href=\"#DejaVuSans-114\"/>\n      <use x=\"390.283203\" xlink:href=\"#DejaVuSans-32\"/>\n      <use x=\"422.070312\" xlink:href=\"#DejaVuSans-111\"/>\n      <use x=\"483.251953\" xlink:href=\"#DejaVuSans-102\"/>\n      <use x=\"518.457031\" xlink:href=\"#DejaVuSans-32\"/>\n      <use x=\"550.244141\" xlink:href=\"#DejaVuSans-112\"/>\n      <use x=\"613.720703\" xlink:href=\"#DejaVuSans-114\"/>\n      <use x=\"652.583984\" xlink:href=\"#DejaVuSans-111\"/>\n      <use x=\"713.765625\" xlink:href=\"#DejaVuSans-98\"/>\n     </g>\n    </g>\n   </g>\n   <g id=\"matplotlib.axis_2\">\n    <g id=\"ytick_1\">\n     <g id=\"line2d_17\">\n      <path clip-path=\"url(#p32c9e3fb15)\" d=\"M 48.90125 300.196875 \nL 941.70125 300.196875 \n\" style=\"fill:none;stroke:#ffffff;stroke-linecap:square;stroke-width:0.8;\"/>\n     </g>\n     <g id=\"line2d_18\">\n      <defs>\n       <path d=\"M 0 0 \nL -3.5 0 \n\" id=\"m6b7d93214e\" style=\"stroke:#555555;stroke-width:0.8;\"/>\n      </defs>\n      <g>\n       <use style=\"fill:#555555;stroke:#555555;stroke-width:0.8;\" x=\"48.90125\" xlink:href=\"#m6b7d93214e\" y=\"300.196875\"/>\n      </g>\n     </g>\n     <g id=\"text_10\">\n      <!-- 0 -->\n      <g style=\"fill:#555555;\" transform=\"translate(35.53875 303.996094)scale(0.1 -0.1)\">\n       <use xlink:href=\"#DejaVuSans-48\"/>\n      </g>\n     </g>\n    </g>\n    <g id=\"ytick_2\">\n     <g id=\"line2d_19\">\n      <path clip-path=\"url(#p32c9e3fb15)\" d=\"M 48.90125 252.52521 \nL 941.70125 252.52521 \n\" style=\"fill:none;stroke:#ffffff;stroke-linecap:square;stroke-width:0.8;\"/>\n     </g>\n     <g id=\"line2d_20\">\n      <g>\n       <use style=\"fill:#555555;stroke:#555555;stroke-width:0.8;\" x=\"48.90125\" xlink:href=\"#m6b7d93214e\" y=\"252.52521\"/>\n      </g>\n     </g>\n     <g id=\"text_11\">\n      <!-- 100 -->\n      <g style=\"fill:#555555;\" transform=\"translate(22.81375 256.324428)scale(0.1 -0.1)\">\n       <use xlink:href=\"#DejaVuSans-49\"/>\n       <use x=\"63.623047\" xlink:href=\"#DejaVuSans-48\"/>\n       <use x=\"127.246094\" xlink:href=\"#DejaVuSans-48\"/>\n      </g>\n     </g>\n    </g>\n    <g id=\"ytick_3\">\n     <g id=\"line2d_21\">\n      <path clip-path=\"url(#p32c9e3fb15)\" d=\"M 48.90125 204.853544 \nL 941.70125 204.853544 \n\" style=\"fill:none;stroke:#ffffff;stroke-linecap:square;stroke-width:0.8;\"/>\n     </g>\n     <g id=\"line2d_22\">\n      <g>\n       <use style=\"fill:#555555;stroke:#555555;stroke-width:0.8;\" x=\"48.90125\" xlink:href=\"#m6b7d93214e\" y=\"204.853544\"/>\n      </g>\n     </g>\n     <g id=\"text_12\">\n      <!-- 200 -->\n      <g style=\"fill:#555555;\" transform=\"translate(22.81375 208.652763)scale(0.1 -0.1)\">\n       <use xlink:href=\"#DejaVuSans-50\"/>\n       <use x=\"63.623047\" xlink:href=\"#DejaVuSans-48\"/>\n       <use x=\"127.246094\" xlink:href=\"#DejaVuSans-48\"/>\n      </g>\n     </g>\n    </g>\n    <g id=\"ytick_4\">\n     <g id=\"line2d_23\">\n      <path clip-path=\"url(#p32c9e3fb15)\" d=\"M 48.90125 157.181879 \nL 941.70125 157.181879 \n\" style=\"fill:none;stroke:#ffffff;stroke-linecap:square;stroke-width:0.8;\"/>\n     </g>\n     <g id=\"line2d_24\">\n      <g>\n       <use style=\"fill:#555555;stroke:#555555;stroke-width:0.8;\" x=\"48.90125\" xlink:href=\"#m6b7d93214e\" y=\"157.181879\"/>\n      </g>\n     </g>\n     <g id=\"text_13\">\n      <!-- 300 -->\n      <defs>\n       <path d=\"M 40.578125 39.3125 \nQ 47.65625 37.796875 51.625 33 \nQ 55.609375 28.21875 55.609375 21.1875 \nQ 55.609375 10.40625 48.1875 4.484375 \nQ 40.765625 -1.421875 27.09375 -1.421875 \nQ 22.515625 -1.421875 17.65625 -0.515625 \nQ 12.796875 0.390625 7.625 2.203125 \nL 7.625 11.71875 \nQ 11.71875 9.328125 16.59375 8.109375 \nQ 21.484375 6.890625 26.8125 6.890625 \nQ 36.078125 6.890625 40.9375 10.546875 \nQ 45.796875 14.203125 45.796875 21.1875 \nQ 45.796875 27.640625 41.28125 31.265625 \nQ 36.765625 34.90625 28.71875 34.90625 \nL 20.21875 34.90625 \nL 20.21875 43.015625 \nL 29.109375 43.015625 \nQ 36.375 43.015625 40.234375 45.921875 \nQ 44.09375 48.828125 44.09375 54.296875 \nQ 44.09375 59.90625 40.109375 62.90625 \nQ 36.140625 65.921875 28.71875 65.921875 \nQ 24.65625 65.921875 20.015625 65.03125 \nQ 15.375 64.15625 9.8125 62.3125 \nL 9.8125 71.09375 \nQ 15.4375 72.65625 20.34375 73.4375 \nQ 25.25 74.21875 29.59375 74.21875 \nQ 40.828125 74.21875 47.359375 69.109375 \nQ 53.90625 64.015625 53.90625 55.328125 \nQ 53.90625 49.265625 50.4375 45.09375 \nQ 46.96875 40.921875 40.578125 39.3125 \nz\n\" id=\"DejaVuSans-51\"/>\n      </defs>\n      <g style=\"fill:#555555;\" transform=\"translate(22.81375 160.981098)scale(0.1 -0.1)\">\n       <use xlink:href=\"#DejaVuSans-51\"/>\n       <use x=\"63.623047\" xlink:href=\"#DejaVuSans-48\"/>\n       <use x=\"127.246094\" xlink:href=\"#DejaVuSans-48\"/>\n      </g>\n     </g>\n    </g>\n    <g id=\"ytick_5\">\n     <g id=\"line2d_25\">\n      <path clip-path=\"url(#p32c9e3fb15)\" d=\"M 48.90125 109.510214 \nL 941.70125 109.510214 \n\" style=\"fill:none;stroke:#ffffff;stroke-linecap:square;stroke-width:0.8;\"/>\n     </g>\n     <g id=\"line2d_26\">\n      <g>\n       <use style=\"fill:#555555;stroke:#555555;stroke-width:0.8;\" x=\"48.90125\" xlink:href=\"#m6b7d93214e\" y=\"109.510214\"/>\n      </g>\n     </g>\n     <g id=\"text_14\">\n      <!-- 400 -->\n      <defs>\n       <path d=\"M 37.796875 64.3125 \nL 12.890625 25.390625 \nL 37.796875 25.390625 \nz\nM 35.203125 72.90625 \nL 47.609375 72.90625 \nL 47.609375 25.390625 \nL 58.015625 25.390625 \nL 58.015625 17.1875 \nL 47.609375 17.1875 \nL 47.609375 0 \nL 37.796875 0 \nL 37.796875 17.1875 \nL 4.890625 17.1875 \nL 4.890625 26.703125 \nz\n\" id=\"DejaVuSans-52\"/>\n      </defs>\n      <g style=\"fill:#555555;\" transform=\"translate(22.81375 113.309432)scale(0.1 -0.1)\">\n       <use xlink:href=\"#DejaVuSans-52\"/>\n       <use x=\"63.623047\" xlink:href=\"#DejaVuSans-48\"/>\n       <use x=\"127.246094\" xlink:href=\"#DejaVuSans-48\"/>\n      </g>\n     </g>\n    </g>\n    <g id=\"ytick_6\">\n     <g id=\"line2d_27\">\n      <path clip-path=\"url(#p32c9e3fb15)\" d=\"M 48.90125 61.838548 \nL 941.70125 61.838548 \n\" style=\"fill:none;stroke:#ffffff;stroke-linecap:square;stroke-width:0.8;\"/>\n     </g>\n     <g id=\"line2d_28\">\n      <g>\n       <use style=\"fill:#555555;stroke:#555555;stroke-width:0.8;\" x=\"48.90125\" xlink:href=\"#m6b7d93214e\" y=\"61.838548\"/>\n      </g>\n     </g>\n     <g id=\"text_15\">\n      <!-- 500 -->\n      <g style=\"fill:#555555;\" transform=\"translate(22.81375 65.637767)scale(0.1 -0.1)\">\n       <use xlink:href=\"#DejaVuSans-53\"/>\n       <use x=\"63.623047\" xlink:href=\"#DejaVuSans-48\"/>\n       <use x=\"127.246094\" xlink:href=\"#DejaVuSans-48\"/>\n      </g>\n     </g>\n    </g>\n    <g id=\"text_16\">\n     <!-- user distribution -->\n     <defs>\n      <path d=\"M 44.28125 53.078125 \nL 44.28125 44.578125 \nQ 40.484375 46.53125 36.375 47.5 \nQ 32.28125 48.484375 27.875 48.484375 \nQ 21.1875 48.484375 17.84375 46.4375 \nQ 14.5 44.390625 14.5 40.28125 \nQ 14.5 37.15625 16.890625 35.375 \nQ 19.28125 33.59375 26.515625 31.984375 \nL 29.59375 31.296875 \nQ 39.15625 29.25 43.1875 25.515625 \nQ 47.21875 21.78125 47.21875 15.09375 \nQ 47.21875 7.46875 41.1875 3.015625 \nQ 35.15625 -1.421875 24.609375 -1.421875 \nQ 20.21875 -1.421875 15.453125 -0.5625 \nQ 10.6875 0.296875 5.421875 2 \nL 5.421875 11.28125 \nQ 10.40625 8.6875 15.234375 7.390625 \nQ 20.0625 6.109375 24.8125 6.109375 \nQ 31.15625 6.109375 34.5625 8.28125 \nQ 37.984375 10.453125 37.984375 14.40625 \nQ 37.984375 18.0625 35.515625 20.015625 \nQ 33.0625 21.96875 24.703125 23.78125 \nL 21.578125 24.515625 \nQ 13.234375 26.265625 9.515625 29.90625 \nQ 5.8125 33.546875 5.8125 39.890625 \nQ 5.8125 47.609375 11.28125 51.796875 \nQ 16.75 56 26.8125 56 \nQ 31.78125 56 36.171875 55.265625 \nQ 40.578125 54.546875 44.28125 53.078125 \nz\n\" id=\"DejaVuSans-115\"/>\n      <path d=\"M 45.40625 46.390625 \nL 45.40625 75.984375 \nL 54.390625 75.984375 \nL 54.390625 0 \nL 45.40625 0 \nL 45.40625 8.203125 \nQ 42.578125 3.328125 38.25 0.953125 \nQ 33.9375 -1.421875 27.875 -1.421875 \nQ 17.96875 -1.421875 11.734375 6.484375 \nQ 5.515625 14.40625 5.515625 27.296875 \nQ 5.515625 40.1875 11.734375 48.09375 \nQ 17.96875 56 27.875 56 \nQ 33.9375 56 38.25 53.625 \nQ 42.578125 51.265625 45.40625 46.390625 \nz\nM 14.796875 27.296875 \nQ 14.796875 17.390625 18.875 11.75 \nQ 22.953125 6.109375 30.078125 6.109375 \nQ 37.203125 6.109375 41.296875 11.75 \nQ 45.40625 17.390625 45.40625 27.296875 \nQ 45.40625 37.203125 41.296875 42.84375 \nQ 37.203125 48.484375 30.078125 48.484375 \nQ 22.953125 48.484375 18.875 42.84375 \nQ 14.796875 37.203125 14.796875 27.296875 \nz\n\" id=\"DejaVuSans-100\"/>\n      <path d=\"M 9.421875 54.6875 \nL 18.40625 54.6875 \nL 18.40625 0 \nL 9.421875 0 \nz\nM 9.421875 75.984375 \nL 18.40625 75.984375 \nL 18.40625 64.59375 \nL 9.421875 64.59375 \nz\n\" id=\"DejaVuSans-105\"/>\n      <path d=\"M 18.3125 70.21875 \nL 18.3125 54.6875 \nL 36.8125 54.6875 \nL 36.8125 47.703125 \nL 18.3125 47.703125 \nL 18.3125 18.015625 \nQ 18.3125 11.328125 20.140625 9.421875 \nQ 21.96875 7.515625 27.59375 7.515625 \nL 36.8125 7.515625 \nL 36.8125 0 \nL 27.59375 0 \nQ 17.1875 0 13.234375 3.875 \nQ 9.28125 7.765625 9.28125 18.015625 \nL 9.28125 47.703125 \nL 2.6875 47.703125 \nL 2.6875 54.6875 \nL 9.28125 54.6875 \nL 9.28125 70.21875 \nz\n\" id=\"DejaVuSans-116\"/>\n     </defs>\n     <g style=\"fill:#555555;\" transform=\"translate(16.318125 213.481875)rotate(-90)scale(0.12 -0.12)\">\n      <use xlink:href=\"#DejaVuSans-117\"/>\n      <use x=\"63.378906\" xlink:href=\"#DejaVuSans-115\"/>\n      <use x=\"115.478516\" xlink:href=\"#DejaVuSans-101\"/>\n      <use x=\"177.001953\" xlink:href=\"#DejaVuSans-114\"/>\n      <use x=\"218.115234\" xlink:href=\"#DejaVuSans-32\"/>\n      <use x=\"249.902344\" xlink:href=\"#DejaVuSans-100\"/>\n      <use x=\"313.378906\" xlink:href=\"#DejaVuSans-105\"/>\n      <use x=\"341.162109\" xlink:href=\"#DejaVuSans-115\"/>\n      <use x=\"393.261719\" xlink:href=\"#DejaVuSans-116\"/>\n      <use x=\"432.470703\" xlink:href=\"#DejaVuSans-114\"/>\n      <use x=\"473.583984\" xlink:href=\"#DejaVuSans-105\"/>\n      <use x=\"501.367188\" xlink:href=\"#DejaVuSans-98\"/>\n      <use x=\"564.84375\" xlink:href=\"#DejaVuSans-117\"/>\n      <use x=\"628.222656\" xlink:href=\"#DejaVuSans-116\"/>\n      <use x=\"667.431641\" xlink:href=\"#DejaVuSans-105\"/>\n      <use x=\"695.214844\" xlink:href=\"#DejaVuSans-111\"/>\n      <use x=\"756.396484\" xlink:href=\"#DejaVuSans-110\"/>\n     </g>\n    </g>\n   </g>\n   <g id=\"patch_3\">\n    <path clip-path=\"url(#p32c9e3fb15)\" d=\"M 89.483068 300.196875 \nL 96.392341 300.196875 \nL 96.392341 68.035865 \nL 89.483068 68.035865 \nz\n\" style=\"fill:#87ceeb;\"/>\n   </g>\n   <g id=\"patch_4\">\n    <path clip-path=\"url(#p32c9e3fb15)\" d=\"M 97.611625 300.196875 \nL 104.520898 300.196875 \nL 104.520898 41.339732 \nL 97.611625 41.339732 \nz\n\" style=\"fill:#87ceeb;\"/>\n   </g>\n   <g id=\"patch_5\">\n    <path clip-path=\"url(#p32c9e3fb15)\" d=\"M 105.740181 300.196875 \nL 112.649454 300.196875 \nL 112.649454 105.219764 \nL 105.740181 105.219764 \nz\n\" style=\"fill:#87ceeb;\"/>\n   </g>\n   <g id=\"patch_6\">\n    <path clip-path=\"url(#p32c9e3fb15)\" d=\"M 113.868738 300.196875 \nL 120.778011 300.196875 \nL 120.778011 146.217396 \nL 113.868738 146.217396 \nz\n\" style=\"fill:#87ceeb;\"/>\n   </g>\n   <g id=\"patch_7\">\n    <path clip-path=\"url(#p32c9e3fb15)\" d=\"M 121.997294 300.196875 \nL 128.906567 300.196875 \nL 128.906567 160.518896 \nL 121.997294 160.518896 \nz\n\" style=\"fill:#87ceeb;\"/>\n   </g>\n   <g id=\"patch_8\">\n    <path clip-path=\"url(#p32c9e3fb15)\" d=\"M 130.125851 300.196875 \nL 137.035124 300.196875 \nL 137.035124 181.494428 \nL 130.125851 181.494428 \nz\n\" style=\"fill:#87ceeb;\"/>\n   </g>\n   <g id=\"patch_9\">\n    <path clip-path=\"url(#p32c9e3fb15)\" d=\"M 138.254407 300.196875 \nL 145.16368 300.196875 \nL 145.16368 196.272645 \nL 138.254407 196.272645 \nz\n\" style=\"fill:#87ceeb;\"/>\n   </g>\n   <g id=\"patch_10\">\n    <path clip-path=\"url(#p32c9e3fb15)\" d=\"M 146.382963 300.196875 \nL 153.292236 300.196875 \nL 153.292236 219.155044 \nL 146.382963 219.155044 \nz\n\" style=\"fill:#87ceeb;\"/>\n   </g>\n   <g id=\"patch_11\">\n    <path clip-path=\"url(#p32c9e3fb15)\" d=\"M 154.51152 300.196875 \nL 161.420793 300.196875 \nL 161.420793 219.155044 \nL 154.51152 219.155044 \nz\n\" style=\"fill:#87ceeb;\"/>\n   </g>\n   <g id=\"patch_12\">\n    <path clip-path=\"url(#p32c9e3fb15)\" d=\"M 162.640076 300.196875 \nL 169.549349 300.196875 \nL 169.549349 222.015344 \nL 162.640076 222.015344 \nz\n\" style=\"fill:#87ceeb;\"/>\n   </g>\n   <g id=\"patch_13\">\n    <path clip-path=\"url(#p32c9e3fb15)\" d=\"M 170.768633 300.196875 \nL 177.677906 300.196875 \nL 177.677906 225.829077 \nL 170.768633 225.829077 \nz\n\" style=\"fill:#87ceeb;\"/>\n   </g>\n   <g id=\"patch_14\">\n    <path clip-path=\"url(#p32c9e3fb15)\" d=\"M 178.897189 300.196875 \nL 185.806462 300.196875 \nL 185.806462 220.585194 \nL 178.897189 220.585194 \nz\n\" style=\"fill:#87ceeb;\"/>\n   </g>\n   <g id=\"patch_15\">\n    <path clip-path=\"url(#p32c9e3fb15)\" d=\"M 187.025746 300.196875 \nL 193.935019 300.196875 \nL 193.935019 236.316843 \nL 187.025746 236.316843 \nz\n\" style=\"fill:#87ceeb;\"/>\n   </g>\n   <g id=\"patch_16\">\n    <path clip-path=\"url(#p32c9e3fb15)\" d=\"M 195.154302 300.196875 \nL 202.063575 300.196875 \nL 202.063575 232.50311 \nL 195.154302 232.50311 \nz\n\" style=\"fill:#87ceeb;\"/>\n   </g>\n   <g id=\"patch_17\">\n    <path clip-path=\"url(#p32c9e3fb15)\" d=\"M 203.282859 300.196875 \nL 210.192132 300.196875 \nL 210.192132 247.758043 \nL 203.282859 247.758043 \nz\n\" style=\"fill:#87ceeb;\"/>\n   </g>\n   <g id=\"patch_18\">\n    <path clip-path=\"url(#p32c9e3fb15)\" d=\"M 211.411415 300.196875 \nL 218.320688 300.196875 \nL 218.320688 230.596244 \nL 211.411415 230.596244 \nz\n\" style=\"fill:#87ceeb;\"/>\n   </g>\n   <g id=\"patch_19\">\n    <path clip-path=\"url(#p32c9e3fb15)\" d=\"M 219.539972 300.196875 \nL 226.449245 300.196875 \nL 226.449245 250.618343 \nL 219.539972 250.618343 \nz\n\" style=\"fill:#87ceeb;\"/>\n   </g>\n   <g id=\"patch_20\">\n    <path clip-path=\"url(#p32c9e3fb15)\" d=\"M 227.668528 300.196875 \nL 234.577801 300.196875 \nL 234.577801 246.80461 \nL 227.668528 246.80461 \nz\n\" style=\"fill:#87ceeb;\"/>\n   </g>\n   <g id=\"patch_21\">\n    <path clip-path=\"url(#p32c9e3fb15)\" d=\"M 235.797085 300.196875 \nL 242.706358 300.196875 \nL 242.706358 244.421027 \nL 235.797085 244.421027 \nz\n\" style=\"fill:#87ceeb;\"/>\n   </g>\n   <g id=\"patch_22\">\n    <path clip-path=\"url(#p32c9e3fb15)\" d=\"M 243.925641 300.196875 \nL 250.834914 300.196875 \nL 250.834914 257.292376 \nL 243.925641 257.292376 \nz\n\" style=\"fill:#87ceeb;\"/>\n   </g>\n   <g id=\"patch_23\">\n    <path clip-path=\"url(#p32c9e3fb15)\" d=\"M 252.054198 300.196875 \nL 258.963471 300.196875 \nL 258.963471 257.292376 \nL 252.054198 257.292376 \nz\n\" style=\"fill:#87ceeb;\"/>\n   </g>\n   <g id=\"patch_24\">\n    <path clip-path=\"url(#p32c9e3fb15)\" d=\"M 260.182754 300.196875 \nL 267.092027 300.196875 \nL 267.092027 241.08401 \nL 260.182754 241.08401 \nz\n\" style=\"fill:#87ceeb;\"/>\n   </g>\n   <g id=\"patch_25\">\n    <path clip-path=\"url(#p32c9e3fb15)\" d=\"M 268.311311 300.196875 \nL 275.220584 300.196875 \nL 275.220584 250.618343 \nL 268.311311 250.618343 \nz\n\" style=\"fill:#87ceeb;\"/>\n   </g>\n   <g id=\"patch_26\">\n    <path clip-path=\"url(#p32c9e3fb15)\" d=\"M 276.439867 300.196875 \nL 283.34914 300.196875 \nL 283.34914 249.66491 \nL 276.439867 249.66491 \nz\n\" style=\"fill:#87ceeb;\"/>\n   </g>\n   <g id=\"patch_27\">\n    <path clip-path=\"url(#p32c9e3fb15)\" d=\"M 284.568423 300.196875 \nL 291.477696 300.196875 \nL 291.477696 258.245809 \nL 284.568423 258.245809 \nz\n\" style=\"fill:#87ceeb;\"/>\n   </g>\n   <g id=\"patch_28\">\n    <path clip-path=\"url(#p32c9e3fb15)\" d=\"M 292.69698 300.196875 \nL 299.606253 300.196875 \nL 299.606253 254.432076 \nL 292.69698 254.432076 \nz\n\" style=\"fill:#87ceeb;\"/>\n   </g>\n   <g id=\"patch_29\">\n    <path clip-path=\"url(#p32c9e3fb15)\" d=\"M 300.825536 300.196875 \nL 307.734809 300.196875 \nL 307.734809 259.199243 \nL 300.825536 259.199243 \nz\n\" style=\"fill:#87ceeb;\"/>\n   </g>\n   <g id=\"patch_30\">\n    <path clip-path=\"url(#p32c9e3fb15)\" d=\"M 308.954093 300.196875 \nL 315.863366 300.196875 \nL 315.863366 261.582826 \nL 308.954093 261.582826 \nz\n\" style=\"fill:#87ceeb;\"/>\n   </g>\n   <g id=\"patch_31\">\n    <path clip-path=\"url(#p32c9e3fb15)\" d=\"M 317.082649 300.196875 \nL 323.991922 300.196875 \nL 323.991922 263.966409 \nL 317.082649 263.966409 \nz\n\" style=\"fill:#87ceeb;\"/>\n   </g>\n   <g id=\"patch_32\">\n    <path clip-path=\"url(#p32c9e3fb15)\" d=\"M 325.211206 300.196875 \nL 332.120479 300.196875 \nL 332.120479 260.629393 \nL 325.211206 260.629393 \nz\n\" style=\"fill:#87ceeb;\"/>\n   </g>\n   <g id=\"patch_33\">\n    <path clip-path=\"url(#p32c9e3fb15)\" d=\"M 333.339762 300.196875 \nL 340.249035 300.196875 \nL 340.249035 268.733576 \nL 333.339762 268.733576 \nz\n\" style=\"fill:#87ceeb;\"/>\n   </g>\n   <g id=\"patch_34\">\n    <path clip-path=\"url(#p32c9e3fb15)\" d=\"M 341.468319 300.196875 \nL 348.377592 300.196875 \nL 348.377592 261.582826 \nL 341.468319 261.582826 \nz\n\" style=\"fill:#87ceeb;\"/>\n   </g>\n   <g id=\"patch_35\">\n    <path clip-path=\"url(#p32c9e3fb15)\" d=\"M 349.596875 300.196875 \nL 356.506148 300.196875 \nL 356.506148 266.349993 \nL 349.596875 266.349993 \nz\n\" style=\"fill:#87ceeb;\"/>\n   </g>\n   <g id=\"patch_36\">\n    <path clip-path=\"url(#p32c9e3fb15)\" d=\"M 357.725432 300.196875 \nL 364.634705 300.196875 \nL 364.634705 270.163726 \nL 357.725432 270.163726 \nz\n\" style=\"fill:#87ceeb;\"/>\n   </g>\n   <g id=\"patch_37\">\n    <path clip-path=\"url(#p32c9e3fb15)\" d=\"M 365.853988 300.196875 \nL 372.763261 300.196875 \nL 372.763261 272.547309 \nL 365.853988 272.547309 \nz\n\" style=\"fill:#87ceeb;\"/>\n   </g>\n   <g id=\"patch_38\">\n    <path clip-path=\"url(#p32c9e3fb15)\" d=\"M 373.982545 300.196875 \nL 380.891818 300.196875 \nL 380.891818 267.303426 \nL 373.982545 267.303426 \nz\n\" style=\"fill:#87ceeb;\"/>\n   </g>\n   <g id=\"patch_39\">\n    <path clip-path=\"url(#p32c9e3fb15)\" d=\"M 382.111101 300.196875 \nL 389.020374 300.196875 \nL 389.020374 268.733576 \nL 382.111101 268.733576 \nz\n\" style=\"fill:#87ceeb;\"/>\n   </g>\n   <g id=\"patch_40\">\n    <path clip-path=\"url(#p32c9e3fb15)\" d=\"M 390.239658 300.196875 \nL 397.148931 300.196875 \nL 397.148931 272.547309 \nL 390.239658 272.547309 \nz\n\" style=\"fill:#87ceeb;\"/>\n   </g>\n   <g id=\"patch_41\">\n    <path clip-path=\"url(#p32c9e3fb15)\" d=\"M 398.368214 300.196875 \nL 405.277487 300.196875 \nL 405.277487 273.024026 \nL 398.368214 273.024026 \nz\n\" style=\"fill:#87ceeb;\"/>\n   </g>\n   <g id=\"patch_42\">\n    <path clip-path=\"url(#p32c9e3fb15)\" d=\"M 406.496771 300.196875 \nL 413.406044 300.196875 \nL 413.406044 275.884326 \nL 406.496771 275.884326 \nz\n\" style=\"fill:#87ceeb;\"/>\n   </g>\n   <g id=\"patch_43\">\n    <path clip-path=\"url(#p32c9e3fb15)\" d=\"M 414.625327 300.196875 \nL 421.5346 300.196875 \nL 421.5346 276.361042 \nL 414.625327 276.361042 \nz\n\" style=\"fill:#87ceeb;\"/>\n   </g>\n   <g id=\"patch_44\">\n    <path clip-path=\"url(#p32c9e3fb15)\" d=\"M 422.753883 300.196875 \nL 429.663156 300.196875 \nL 429.663156 277.314476 \nL 422.753883 277.314476 \nz\n\" style=\"fill:#87ceeb;\"/>\n   </g>\n   <g id=\"patch_45\">\n    <path clip-path=\"url(#p32c9e3fb15)\" d=\"M 430.88244 300.196875 \nL 437.791713 300.196875 \nL 437.791713 281.604926 \nL 430.88244 281.604926 \nz\n\" style=\"fill:#87ceeb;\"/>\n   </g>\n   <g id=\"patch_46\">\n    <path clip-path=\"url(#p32c9e3fb15)\" d=\"M 439.010996 300.196875 \nL 445.920269 300.196875 \nL 445.920269 271.593876 \nL 439.010996 271.593876 \nz\n\" style=\"fill:#87ceeb;\"/>\n   </g>\n   <g id=\"patch_47\">\n    <path clip-path=\"url(#p32c9e3fb15)\" d=\"M 447.139553 300.196875 \nL 454.048826 300.196875 \nL 454.048826 283.988509 \nL 447.139553 283.988509 \nz\n\" style=\"fill:#87ceeb;\"/>\n   </g>\n   <g id=\"patch_48\">\n    <path clip-path=\"url(#p32c9e3fb15)\" d=\"M 455.268109 300.196875 \nL 462.177382 300.196875 \nL 462.177382 278.744626 \nL 455.268109 278.744626 \nz\n\" style=\"fill:#87ceeb;\"/>\n   </g>\n   <g id=\"patch_49\">\n    <path clip-path=\"url(#p32c9e3fb15)\" d=\"M 463.396666 300.196875 \nL 470.305939 300.196875 \nL 470.305939 281.128209 \nL 463.396666 281.128209 \nz\n\" style=\"fill:#87ceeb;\"/>\n   </g>\n   <g id=\"patch_50\">\n    <path clip-path=\"url(#p32c9e3fb15)\" d=\"M 471.525222 300.196875 \nL 478.434495 300.196875 \nL 478.434495 287.325525 \nL 471.525222 287.325525 \nz\n\" style=\"fill:#87ceeb;\"/>\n   </g>\n   <g id=\"patch_51\">\n    <path clip-path=\"url(#p32c9e3fb15)\" d=\"M 479.653779 300.196875 \nL 486.563052 300.196875 \nL 486.563052 287.802242 \nL 479.653779 287.802242 \nz\n\" style=\"fill:#87ceeb;\"/>\n   </g>\n   <g id=\"patch_52\">\n    <path clip-path=\"url(#p32c9e3fb15)\" d=\"M 487.782335 300.196875 \nL 494.691608 300.196875 \nL 494.691608 286.372092 \nL 487.782335 286.372092 \nz\n\" style=\"fill:#87ceeb;\"/>\n   </g>\n   <g id=\"patch_53\">\n    <path clip-path=\"url(#p32c9e3fb15)\" d=\"M 495.910892 300.196875 \nL 502.820165 300.196875 \nL 502.820165 284.465225 \nL 495.910892 284.465225 \nz\n\" style=\"fill:#87ceeb;\"/>\n   </g>\n   <g id=\"patch_54\">\n    <path clip-path=\"url(#p32c9e3fb15)\" d=\"M 504.039448 300.196875 \nL 510.948721 300.196875 \nL 510.948721 288.278959 \nL 504.039448 288.278959 \nz\n\" style=\"fill:#87ceeb;\"/>\n   </g>\n   <g id=\"patch_55\">\n    <path clip-path=\"url(#p32c9e3fb15)\" d=\"M 512.168005 300.196875 \nL 519.077278 300.196875 \nL 519.077278 285.895375 \nL 512.168005 285.895375 \nz\n\" style=\"fill:#87ceeb;\"/>\n   </g>\n   <g id=\"patch_56\">\n    <path clip-path=\"url(#p32c9e3fb15)\" d=\"M 520.296561 300.196875 \nL 527.205834 300.196875 \nL 527.205834 287.802242 \nL 520.296561 287.802242 \nz\n\" style=\"fill:#87ceeb;\"/>\n   </g>\n   <g id=\"patch_57\">\n    <path clip-path=\"url(#p32c9e3fb15)\" d=\"M 528.425118 300.196875 \nL 535.334391 300.196875 \nL 535.334391 289.232392 \nL 528.425118 289.232392 \nz\n\" style=\"fill:#87ceeb;\"/>\n   </g>\n   <g id=\"patch_58\">\n    <path clip-path=\"url(#p32c9e3fb15)\" d=\"M 536.553674 300.196875 \nL 543.462947 300.196875 \nL 543.462947 286.848809 \nL 536.553674 286.848809 \nz\n\" style=\"fill:#87ceeb;\"/>\n   </g>\n   <g id=\"patch_59\">\n    <path clip-path=\"url(#p32c9e3fb15)\" d=\"M 544.682231 300.196875 \nL 551.591504 300.196875 \nL 551.591504 289.709109 \nL 544.682231 289.709109 \nz\n\" style=\"fill:#87ceeb;\"/>\n   </g>\n   <g id=\"patch_60\">\n    <path clip-path=\"url(#p32c9e3fb15)\" d=\"M 552.810787 300.196875 \nL 559.72006 300.196875 \nL 559.72006 292.092692 \nL 552.810787 292.092692 \nz\n\" style=\"fill:#87ceeb;\"/>\n   </g>\n   <g id=\"patch_61\">\n    <path clip-path=\"url(#p32c9e3fb15)\" d=\"M 560.939344 300.196875 \nL 567.848617 300.196875 \nL 567.848617 293.522842 \nL 560.939344 293.522842 \nz\n\" style=\"fill:#87ceeb;\"/>\n   </g>\n   <g id=\"patch_62\">\n    <path clip-path=\"url(#p32c9e3fb15)\" d=\"M 569.0679 300.196875 \nL 575.977173 300.196875 \nL 575.977173 292.092692 \nL 569.0679 292.092692 \nz\n\" style=\"fill:#87ceeb;\"/>\n   </g>\n   <g id=\"patch_63\">\n    <path clip-path=\"url(#p32c9e3fb15)\" d=\"M 577.196456 300.196875 \nL 584.105729 300.196875 \nL 584.105729 294.476275 \nL 577.196456 294.476275 \nz\n\" style=\"fill:#87ceeb;\"/>\n   </g>\n   <g id=\"patch_64\">\n    <path clip-path=\"url(#p32c9e3fb15)\" d=\"M 585.325013 300.196875 \nL 592.234286 300.196875 \nL 592.234286 291.139259 \nL 585.325013 291.139259 \nz\n\" style=\"fill:#87ceeb;\"/>\n   </g>\n   <g id=\"patch_65\">\n    <path clip-path=\"url(#p32c9e3fb15)\" d=\"M 593.453569 300.196875 \nL 600.362842 300.196875 \nL 600.362842 293.046125 \nL 593.453569 293.046125 \nz\n\" style=\"fill:#87ceeb;\"/>\n   </g>\n   <g id=\"patch_66\">\n    <path clip-path=\"url(#p32c9e3fb15)\" d=\"M 601.582126 300.196875 \nL 608.491399 300.196875 \nL 608.491399 297.336575 \nL 601.582126 297.336575 \nz\n\" style=\"fill:#87ceeb;\"/>\n   </g>\n   <g id=\"patch_67\">\n    <path clip-path=\"url(#p32c9e3fb15)\" d=\"M 609.710682 300.196875 \nL 616.619955 300.196875 \nL 616.619955 294.476275 \nL 609.710682 294.476275 \nz\n\" style=\"fill:#87ceeb;\"/>\n   </g>\n   <g id=\"patch_68\">\n    <path clip-path=\"url(#p32c9e3fb15)\" d=\"M 617.839239 300.196875 \nL 624.748512 300.196875 \nL 624.748512 296.859858 \nL 617.839239 296.859858 \nz\n\" style=\"fill:#87ceeb;\"/>\n   </g>\n   <g id=\"patch_69\">\n    <path clip-path=\"url(#p32c9e3fb15)\" d=\"M 625.967795 300.196875 \nL 632.877068 300.196875 \nL 632.877068 293.999559 \nL 625.967795 293.999559 \nz\n\" style=\"fill:#87ceeb;\"/>\n   </g>\n   <g id=\"patch_70\">\n    <path clip-path=\"url(#p32c9e3fb15)\" d=\"M 634.096352 300.196875 \nL 641.005625 300.196875 \nL 641.005625 294.476275 \nL 634.096352 294.476275 \nz\n\" style=\"fill:#87ceeb;\"/>\n   </g>\n   <g id=\"patch_71\">\n    <path clip-path=\"url(#p32c9e3fb15)\" d=\"M 642.224908 300.196875 \nL 649.134181 300.196875 \nL 649.134181 294.952992 \nL 642.224908 294.952992 \nz\n\" style=\"fill:#87ceeb;\"/>\n   </g>\n   <g id=\"patch_72\">\n    <path clip-path=\"url(#p32c9e3fb15)\" d=\"M 650.353465 300.196875 \nL 657.262738 300.196875 \nL 657.262738 296.859858 \nL 650.353465 296.859858 \nz\n\" style=\"fill:#87ceeb;\"/>\n   </g>\n   <g id=\"patch_73\">\n    <path clip-path=\"url(#p32c9e3fb15)\" d=\"M 658.482021 300.196875 \nL 665.391294 300.196875 \nL 665.391294 296.383142 \nL 658.482021 296.383142 \nz\n\" style=\"fill:#87ceeb;\"/>\n   </g>\n   <g id=\"patch_74\">\n    <path clip-path=\"url(#p32c9e3fb15)\" d=\"M 666.610578 300.196875 \nL 673.519851 300.196875 \nL 673.519851 297.336575 \nL 666.610578 297.336575 \nz\n\" style=\"fill:#87ceeb;\"/>\n   </g>\n   <g id=\"patch_75\">\n    <path clip-path=\"url(#p32c9e3fb15)\" d=\"M 674.739134 300.196875 \nL 681.648407 300.196875 \nL 681.648407 297.336575 \nL 674.739134 297.336575 \nz\n\" style=\"fill:#87ceeb;\"/>\n   </g>\n   <g id=\"patch_76\">\n    <path clip-path=\"url(#p32c9e3fb15)\" d=\"M 682.867691 300.196875 \nL 689.776964 300.196875 \nL 689.776964 299.243442 \nL 682.867691 299.243442 \nz\n\" style=\"fill:#87ceeb;\"/>\n   </g>\n   <g id=\"patch_77\">\n    <path clip-path=\"url(#p32c9e3fb15)\" d=\"M 690.996247 300.196875 \nL 697.90552 300.196875 \nL 697.90552 300.196875 \nL 690.996247 300.196875 \nz\n\" style=\"fill:#87ceeb;\"/>\n   </g>\n   <g id=\"patch_78\">\n    <path clip-path=\"url(#p32c9e3fb15)\" d=\"M 699.124804 300.196875 \nL 706.034077 300.196875 \nL 706.034077 298.290008 \nL 699.124804 298.290008 \nz\n\" style=\"fill:#87ceeb;\"/>\n   </g>\n   <g id=\"patch_79\">\n    <path clip-path=\"url(#p32c9e3fb15)\" d=\"M 707.25336 300.196875 \nL 714.162633 300.196875 \nL 714.162633 298.766725 \nL 707.25336 298.766725 \nz\n\" style=\"fill:#87ceeb;\"/>\n   </g>\n   <g id=\"patch_80\">\n    <path clip-path=\"url(#p32c9e3fb15)\" d=\"M 715.381916 300.196875 \nL 722.291189 300.196875 \nL 722.291189 299.243442 \nL 715.381916 299.243442 \nz\n\" style=\"fill:#87ceeb;\"/>\n   </g>\n   <g id=\"patch_81\">\n    <path clip-path=\"url(#p32c9e3fb15)\" d=\"M 723.510473 300.196875 \nL 730.419746 300.196875 \nL 730.419746 298.766725 \nL 723.510473 298.766725 \nz\n\" style=\"fill:#87ceeb;\"/>\n   </g>\n   <g id=\"patch_82\">\n    <path clip-path=\"url(#p32c9e3fb15)\" d=\"M 731.639029 300.196875 \nL 738.548302 300.196875 \nL 738.548302 298.290008 \nL 731.639029 298.290008 \nz\n\" style=\"fill:#87ceeb;\"/>\n   </g>\n   <g id=\"patch_83\">\n    <path clip-path=\"url(#p32c9e3fb15)\" d=\"M 739.767586 300.196875 \nL 746.676859 300.196875 \nL 746.676859 298.290008 \nL 739.767586 298.290008 \nz\n\" style=\"fill:#87ceeb;\"/>\n   </g>\n   <g id=\"patch_84\">\n    <path clip-path=\"url(#p32c9e3fb15)\" d=\"M 747.896142 300.196875 \nL 754.805415 300.196875 \nL 754.805415 299.720158 \nL 747.896142 299.720158 \nz\n\" style=\"fill:#87ceeb;\"/>\n   </g>\n   <g id=\"patch_85\">\n    <path clip-path=\"url(#p32c9e3fb15)\" d=\"M 756.024699 300.196875 \nL 762.933972 300.196875 \nL 762.933972 299.243442 \nL 756.024699 299.243442 \nz\n\" style=\"fill:#87ceeb;\"/>\n   </g>\n   <g id=\"patch_86\">\n    <path clip-path=\"url(#p32c9e3fb15)\" d=\"M 764.153255 300.196875 \nL 771.062528 300.196875 \nL 771.062528 298.290008 \nL 764.153255 298.290008 \nz\n\" style=\"fill:#87ceeb;\"/>\n   </g>\n   <g id=\"patch_87\">\n    <path clip-path=\"url(#p32c9e3fb15)\" d=\"M 772.281812 300.196875 \nL 779.191085 300.196875 \nL 779.191085 297.813292 \nL 772.281812 297.813292 \nz\n\" style=\"fill:#87ceeb;\"/>\n   </g>\n   <g id=\"patch_88\">\n    <path clip-path=\"url(#p32c9e3fb15)\" d=\"M 780.410368 300.196875 \nL 787.319641 300.196875 \nL 787.319641 298.290008 \nL 780.410368 298.290008 \nz\n\" style=\"fill:#87ceeb;\"/>\n   </g>\n   <g id=\"patch_89\">\n    <path clip-path=\"url(#p32c9e3fb15)\" d=\"M 788.538925 300.196875 \nL 795.448198 300.196875 \nL 795.448198 300.196875 \nL 788.538925 300.196875 \nz\n\" style=\"fill:#87ceeb;\"/>\n   </g>\n   <g id=\"patch_90\">\n    <path clip-path=\"url(#p32c9e3fb15)\" d=\"M 796.667481 300.196875 \nL 803.576754 300.196875 \nL 803.576754 299.243442 \nL 796.667481 299.243442 \nz\n\" style=\"fill:#87ceeb;\"/>\n   </g>\n   <g id=\"patch_91\">\n    <path clip-path=\"url(#p32c9e3fb15)\" d=\"M 804.796038 300.196875 \nL 811.705311 300.196875 \nL 811.705311 300.196875 \nL 804.796038 300.196875 \nz\n\" style=\"fill:#87ceeb;\"/>\n   </g>\n   <g id=\"patch_92\">\n    <path clip-path=\"url(#p32c9e3fb15)\" d=\"M 812.924594 300.196875 \nL 819.833867 300.196875 \nL 819.833867 298.766725 \nL 812.924594 298.766725 \nz\n\" style=\"fill:#87ceeb;\"/>\n   </g>\n   <g id=\"patch_93\">\n    <path clip-path=\"url(#p32c9e3fb15)\" d=\"M 821.053151 300.196875 \nL 827.962424 300.196875 \nL 827.962424 300.196875 \nL 821.053151 300.196875 \nz\n\" style=\"fill:#87ceeb;\"/>\n   </g>\n   <g id=\"patch_94\">\n    <path clip-path=\"url(#p32c9e3fb15)\" d=\"M 829.181707 300.196875 \nL 836.09098 300.196875 \nL 836.09098 299.720158 \nL 829.181707 299.720158 \nz\n\" style=\"fill:#87ceeb;\"/>\n   </g>\n   <g id=\"patch_95\">\n    <path clip-path=\"url(#p32c9e3fb15)\" d=\"M 837.310264 300.196875 \nL 844.219537 300.196875 \nL 844.219537 299.720158 \nL 837.310264 299.720158 \nz\n\" style=\"fill:#87ceeb;\"/>\n   </g>\n   <g id=\"patch_96\">\n    <path clip-path=\"url(#p32c9e3fb15)\" d=\"M 845.43882 300.196875 \nL 852.348093 300.196875 \nL 852.348093 298.766725 \nL 845.43882 298.766725 \nz\n\" style=\"fill:#87ceeb;\"/>\n   </g>\n   <g id=\"patch_97\">\n    <path clip-path=\"url(#p32c9e3fb15)\" d=\"M 853.567376 300.196875 \nL 860.476649 300.196875 \nL 860.476649 300.196875 \nL 853.567376 300.196875 \nz\n\" style=\"fill:#87ceeb;\"/>\n   </g>\n   <g id=\"patch_98\">\n    <path clip-path=\"url(#p32c9e3fb15)\" d=\"M 861.695933 300.196875 \nL 868.605206 300.196875 \nL 868.605206 298.766725 \nL 861.695933 298.766725 \nz\n\" style=\"fill:#87ceeb;\"/>\n   </g>\n   <g id=\"patch_99\">\n    <path clip-path=\"url(#p32c9e3fb15)\" d=\"M 869.824489 300.196875 \nL 876.733762 300.196875 \nL 876.733762 300.196875 \nL 869.824489 300.196875 \nz\n\" style=\"fill:#87ceeb;\"/>\n   </g>\n   <g id=\"patch_100\">\n    <path clip-path=\"url(#p32c9e3fb15)\" d=\"M 877.953046 300.196875 \nL 884.862319 300.196875 \nL 884.862319 300.196875 \nL 877.953046 300.196875 \nz\n\" style=\"fill:#87ceeb;\"/>\n   </g>\n   <g id=\"patch_101\">\n    <path clip-path=\"url(#p32c9e3fb15)\" d=\"M 886.081602 300.196875 \nL 892.990875 300.196875 \nL 892.990875 300.196875 \nL 886.081602 300.196875 \nz\n\" style=\"fill:#87ceeb;\"/>\n   </g>\n   <g id=\"patch_102\">\n    <path clip-path=\"url(#p32c9e3fb15)\" d=\"M 894.210159 300.196875 \nL 901.119432 300.196875 \nL 901.119432 299.243442 \nL 894.210159 299.243442 \nz\n\" style=\"fill:#87ceeb;\"/>\n   </g>\n   <g id=\"line2d_29\">\n    <path clip-path=\"url(#p32c9e3fb15)\" d=\"M 233.526351 300.196875 \nL 233.526351 28.396875 \n\" style=\"fill:none;stroke:#ff0000;stroke-linecap:square;stroke-width:1.5;\"/>\n   </g>\n   <g id=\"line2d_30\">\n    <path clip-path=\"url(#p32c9e3fb15)\" d=\"M 186.582979 300.196875 \nL 186.582979 28.396875 \n\" style=\"fill:none;stroke:#ffa500;stroke-linecap:square;stroke-width:1.5;\"/>\n   </g>\n   <g id=\"patch_103\">\n    <path d=\"M 48.90125 300.196875 \nL 48.90125 28.396875 \n\" style=\"fill:none;stroke:#ffffff;stroke-linecap:square;stroke-linejoin:miter;\"/>\n   </g>\n   <g id=\"patch_104\">\n    <path d=\"M 941.70125 300.196875 \nL 941.70125 28.396875 \n\" style=\"fill:none;stroke:#ffffff;stroke-linecap:square;stroke-linejoin:miter;\"/>\n   </g>\n   <g id=\"patch_105\">\n    <path d=\"M 48.90125 300.196875 \nL 941.70125 300.196875 \n\" style=\"fill:none;stroke:#ffffff;stroke-linecap:square;stroke-linejoin:miter;\"/>\n   </g>\n   <g id=\"patch_106\">\n    <path d=\"M 48.90125 28.396875 \nL 941.70125 28.396875 \n\" style=\"fill:none;stroke:#ffffff;stroke-linecap:square;stroke-linejoin:miter;\"/>\n   </g>\n   <g id=\"text_17\">\n    <!-- mean value : 338.4 -->\n    <defs>\n     <path d=\"M 34.28125 27.484375 \nQ 23.390625 27.484375 19.1875 25 \nQ 14.984375 22.515625 14.984375 16.5 \nQ 14.984375 11.71875 18.140625 8.90625 \nQ 21.296875 6.109375 26.703125 6.109375 \nQ 34.1875 6.109375 38.703125 11.40625 \nQ 43.21875 16.703125 43.21875 25.484375 \nL 43.21875 27.484375 \nz\nM 52.203125 31.203125 \nL 52.203125 0 \nL 43.21875 0 \nL 43.21875 8.296875 \nQ 40.140625 3.328125 35.546875 0.953125 \nQ 30.953125 -1.421875 24.3125 -1.421875 \nQ 15.921875 -1.421875 10.953125 3.296875 \nQ 6 8.015625 6 15.921875 \nQ 6 25.140625 12.171875 29.828125 \nQ 18.359375 34.515625 30.609375 34.515625 \nL 43.21875 34.515625 \nL 43.21875 35.40625 \nQ 43.21875 41.609375 39.140625 45 \nQ 35.0625 48.390625 27.6875 48.390625 \nQ 23 48.390625 18.546875 47.265625 \nQ 14.109375 46.140625 10.015625 43.890625 \nL 10.015625 52.203125 \nQ 14.9375 54.109375 19.578125 55.046875 \nQ 24.21875 56 28.609375 56 \nQ 40.484375 56 46.34375 49.84375 \nQ 52.203125 43.703125 52.203125 31.203125 \nz\n\" id=\"DejaVuSans-97\"/>\n     <path d=\"M 2.984375 54.6875 \nL 12.5 54.6875 \nL 29.59375 8.796875 \nL 46.6875 54.6875 \nL 56.203125 54.6875 \nL 35.6875 0 \nL 23.484375 0 \nz\n\" id=\"DejaVuSans-118\"/>\n     <path d=\"M 9.421875 75.984375 \nL 18.40625 75.984375 \nL 18.40625 0 \nL 9.421875 0 \nz\n\" id=\"DejaVuSans-108\"/>\n     <path d=\"M 11.71875 12.40625 \nL 22.015625 12.40625 \nL 22.015625 0 \nL 11.71875 0 \nz\nM 11.71875 51.703125 \nL 22.015625 51.703125 \nL 22.015625 39.3125 \nL 11.71875 39.3125 \nz\n\" id=\"DejaVuSans-58\"/>\n     <path d=\"M 31.78125 34.625 \nQ 24.75 34.625 20.71875 30.859375 \nQ 16.703125 27.09375 16.703125 20.515625 \nQ 16.703125 13.921875 20.71875 10.15625 \nQ 24.75 6.390625 31.78125 6.390625 \nQ 38.8125 6.390625 42.859375 10.171875 \nQ 46.921875 13.96875 46.921875 20.515625 \nQ 46.921875 27.09375 42.890625 30.859375 \nQ 38.875 34.625 31.78125 34.625 \nz\nM 21.921875 38.8125 \nQ 15.578125 40.375 12.03125 44.71875 \nQ 8.5 49.078125 8.5 55.328125 \nQ 8.5 64.0625 14.71875 69.140625 \nQ 20.953125 74.21875 31.78125 74.21875 \nQ 42.671875 74.21875 48.875 69.140625 \nQ 55.078125 64.0625 55.078125 55.328125 \nQ 55.078125 49.078125 51.53125 44.71875 \nQ 48 40.375 41.703125 38.8125 \nQ 48.828125 37.15625 52.796875 32.3125 \nQ 56.78125 27.484375 56.78125 20.515625 \nQ 56.78125 9.90625 50.3125 4.234375 \nQ 43.84375 -1.421875 31.78125 -1.421875 \nQ 19.734375 -1.421875 13.25 4.234375 \nQ 6.78125 9.90625 6.78125 20.515625 \nQ 6.78125 27.484375 10.78125 32.3125 \nQ 14.796875 37.15625 21.921875 38.8125 \nz\nM 18.3125 54.390625 \nQ 18.3125 48.734375 21.84375 45.5625 \nQ 25.390625 42.390625 31.78125 42.390625 \nQ 38.140625 42.390625 41.71875 45.5625 \nQ 45.3125 48.734375 45.3125 54.390625 \nQ 45.3125 60.0625 41.71875 63.234375 \nQ 38.140625 66.40625 31.78125 66.40625 \nQ 25.390625 66.40625 21.84375 63.234375 \nQ 18.3125 60.0625 18.3125 54.390625 \nz\n\" id=\"DejaVuSans-56\"/>\n     <path d=\"M 10.6875 12.40625 \nL 21 12.40625 \nL 21 0 \nL 10.6875 0 \nz\n\" id=\"DejaVuSans-46\"/>\n    </defs>\n    <g transform=\"translate(242.309232 109.510214)scale(0.1 -0.1)\">\n     <use xlink:href=\"#DejaVuSans-109\"/>\n     <use x=\"97.412109\" xlink:href=\"#DejaVuSans-101\"/>\n     <use x=\"158.935547\" xlink:href=\"#DejaVuSans-97\"/>\n     <use x=\"220.214844\" xlink:href=\"#DejaVuSans-110\"/>\n     <use x=\"283.59375\" xlink:href=\"#DejaVuSans-32\"/>\n     <use x=\"315.380859\" xlink:href=\"#DejaVuSans-118\"/>\n     <use x=\"374.560547\" xlink:href=\"#DejaVuSans-97\"/>\n     <use x=\"435.839844\" xlink:href=\"#DejaVuSans-108\"/>\n     <use x=\"463.623047\" xlink:href=\"#DejaVuSans-117\"/>\n     <use x=\"527.001953\" xlink:href=\"#DejaVuSans-101\"/>\n     <use x=\"588.525391\" xlink:href=\"#DejaVuSans-32\"/>\n     <use x=\"620.3125\" xlink:href=\"#DejaVuSans-58\"/>\n     <use x=\"654.003906\" xlink:href=\"#DejaVuSans-32\"/>\n     <use x=\"685.791016\" xlink:href=\"#DejaVuSans-51\"/>\n     <use x=\"749.414062\" xlink:href=\"#DejaVuSans-51\"/>\n     <use x=\"813.037109\" xlink:href=\"#DejaVuSans-56\"/>\n     <use x=\"876.660156\" xlink:href=\"#DejaVuSans-46\"/>\n     <use x=\"908.447266\" xlink:href=\"#DejaVuSans-52\"/>\n    </g>\n   </g>\n   <g id=\"text_18\">\n    <!-- median(Q2) value : 231.5 -->\n    <defs>\n     <path d=\"M 31 75.875 \nQ 24.46875 64.65625 21.28125 53.65625 \nQ 18.109375 42.671875 18.109375 31.390625 \nQ 18.109375 20.125 21.3125 9.0625 \nQ 24.515625 -2 31 -13.1875 \nL 23.1875 -13.1875 \nQ 15.875 -1.703125 12.234375 9.375 \nQ 8.59375 20.453125 8.59375 31.390625 \nQ 8.59375 42.28125 12.203125 53.3125 \nQ 15.828125 64.359375 23.1875 75.875 \nz\n\" id=\"DejaVuSans-40\"/>\n     <path d=\"M 39.40625 66.21875 \nQ 28.65625 66.21875 22.328125 58.203125 \nQ 16.015625 50.203125 16.015625 36.375 \nQ 16.015625 22.609375 22.328125 14.59375 \nQ 28.65625 6.59375 39.40625 6.59375 \nQ 50.140625 6.59375 56.421875 14.59375 \nQ 62.703125 22.609375 62.703125 36.375 \nQ 62.703125 50.203125 56.421875 58.203125 \nQ 50.140625 66.21875 39.40625 66.21875 \nz\nM 53.21875 1.3125 \nL 66.21875 -12.890625 \nL 54.296875 -12.890625 \nL 43.5 -1.21875 \nQ 41.890625 -1.3125 41.03125 -1.359375 \nQ 40.1875 -1.421875 39.40625 -1.421875 \nQ 24.03125 -1.421875 14.8125 8.859375 \nQ 5.609375 19.140625 5.609375 36.375 \nQ 5.609375 53.65625 14.8125 63.9375 \nQ 24.03125 74.21875 39.40625 74.21875 \nQ 54.734375 74.21875 63.90625 63.9375 \nQ 73.09375 53.65625 73.09375 36.375 \nQ 73.09375 23.6875 67.984375 14.640625 \nQ 62.890625 5.609375 53.21875 1.3125 \nz\n\" id=\"DejaVuSans-81\"/>\n     <path d=\"M 8.015625 75.875 \nL 15.828125 75.875 \nQ 23.140625 64.359375 26.78125 53.3125 \nQ 30.421875 42.28125 30.421875 31.390625 \nQ 30.421875 20.453125 26.78125 9.375 \nQ 23.140625 -1.703125 15.828125 -13.1875 \nL 8.015625 -13.1875 \nQ 14.5 -2 17.703125 9.0625 \nQ 20.90625 20.125 20.90625 31.390625 \nQ 20.90625 42.671875 17.703125 53.65625 \nQ 14.5 64.65625 8.015625 75.875 \nz\n\" id=\"DejaVuSans-41\"/>\n    </defs>\n    <g transform=\"translate(195.36586 61.838548)scale(0.1 -0.1)\">\n     <use xlink:href=\"#DejaVuSans-109\"/>\n     <use x=\"97.412109\" xlink:href=\"#DejaVuSans-101\"/>\n     <use x=\"158.935547\" xlink:href=\"#DejaVuSans-100\"/>\n     <use x=\"222.412109\" xlink:href=\"#DejaVuSans-105\"/>\n     <use x=\"250.195312\" xlink:href=\"#DejaVuSans-97\"/>\n     <use x=\"311.474609\" xlink:href=\"#DejaVuSans-110\"/>\n     <use x=\"374.853516\" xlink:href=\"#DejaVuSans-40\"/>\n     <use x=\"413.867188\" xlink:href=\"#DejaVuSans-81\"/>\n     <use x=\"492.578125\" xlink:href=\"#DejaVuSans-50\"/>\n     <use x=\"556.201172\" xlink:href=\"#DejaVuSans-41\"/>\n     <use x=\"595.214844\" xlink:href=\"#DejaVuSans-32\"/>\n     <use x=\"627.001953\" xlink:href=\"#DejaVuSans-118\"/>\n     <use x=\"686.181641\" xlink:href=\"#DejaVuSans-97\"/>\n     <use x=\"747.460938\" xlink:href=\"#DejaVuSans-108\"/>\n     <use x=\"775.244141\" xlink:href=\"#DejaVuSans-117\"/>\n     <use x=\"838.623047\" xlink:href=\"#DejaVuSans-101\"/>\n     <use x=\"900.146484\" xlink:href=\"#DejaVuSans-32\"/>\n     <use x=\"931.933594\" xlink:href=\"#DejaVuSans-58\"/>\n     <use x=\"965.625\" xlink:href=\"#DejaVuSans-32\"/>\n     <use x=\"997.412109\" xlink:href=\"#DejaVuSans-50\"/>\n     <use x=\"1061.035156\" xlink:href=\"#DejaVuSans-51\"/>\n     <use x=\"1124.658203\" xlink:href=\"#DejaVuSans-49\"/>\n     <use x=\"1188.28125\" xlink:href=\"#DejaVuSans-46\"/>\n     <use x=\"1220.068359\" xlink:href=\"#DejaVuSans-53\"/>\n    </g>\n   </g>\n   <g id=\"text_19\">\n    <!-- [TRAIN] number of problem to solve by user / total user num : 6698 -->\n    <defs>\n     <path d=\"M 8.59375 75.984375 \nL 38.921875 75.984375 \nL 38.921875 64.984375 \nL 25.203125 64.984375 \nL 25.203125 -2.203125 \nL 38.921875 -2.203125 \nL 38.921875 -13.1875 \nL 8.59375 -13.1875 \nz\n\" id=\"DejaVuSans-Bold-91\"/>\n     <path d=\"M 0.484375 72.90625 \nL 67.671875 72.90625 \nL 67.671875 58.6875 \nL 43.5 58.6875 \nL 43.5 0 \nL 24.703125 0 \nL 24.703125 58.6875 \nL 0.484375 58.6875 \nz\n\" id=\"DejaVuSans-Bold-84\"/>\n     <path d=\"M 35.890625 40.578125 \nQ 41.796875 40.578125 44.359375 42.765625 \nQ 46.921875 44.96875 46.921875 50 \nQ 46.921875 54.984375 44.359375 57.125 \nQ 41.796875 59.28125 35.890625 59.28125 \nL 27.984375 59.28125 \nL 27.984375 40.578125 \nz\nM 27.984375 27.59375 \nL 27.984375 0 \nL 9.1875 0 \nL 9.1875 72.90625 \nL 37.890625 72.90625 \nQ 52.296875 72.90625 59 68.0625 \nQ 65.71875 63.234375 65.71875 52.78125 \nQ 65.71875 45.5625 62.21875 40.921875 \nQ 58.734375 36.28125 51.703125 34.078125 \nQ 55.5625 33.203125 58.609375 30.09375 \nQ 61.671875 27 64.796875 20.703125 \nL 75 0 \nL 54.984375 0 \nL 46.09375 18.109375 \nQ 43.40625 23.578125 40.640625 25.578125 \nQ 37.890625 27.59375 33.296875 27.59375 \nz\n\" id=\"DejaVuSans-Bold-82\"/>\n     <path d=\"M 53.421875 13.28125 \nL 24.03125 13.28125 \nL 19.390625 0 \nL 0.484375 0 \nL 27.484375 72.90625 \nL 49.90625 72.90625 \nL 76.90625 0 \nL 58.015625 0 \nz\nM 28.71875 26.8125 \nL 48.6875 26.8125 \nL 38.71875 55.8125 \nz\n\" id=\"DejaVuSans-Bold-65\"/>\n     <path d=\"M 9.1875 72.90625 \nL 27.984375 72.90625 \nL 27.984375 0 \nL 9.1875 0 \nz\n\" id=\"DejaVuSans-Bold-73\"/>\n     <path d=\"M 9.1875 72.90625 \nL 30.171875 72.90625 \nL 56.6875 22.90625 \nL 56.6875 72.90625 \nL 74.515625 72.90625 \nL 74.515625 0 \nL 53.515625 0 \nL 27 50 \nL 27 0 \nL 9.1875 0 \nz\n\" id=\"DejaVuSans-Bold-78\"/>\n     <path d=\"M 37.109375 -13.1875 \nL 6.78125 -13.1875 \nL 6.78125 -2.203125 \nL 20.515625 -2.203125 \nL 20.515625 64.984375 \nL 6.78125 64.984375 \nL 6.78125 75.984375 \nL 37.109375 75.984375 \nz\n\" id=\"DejaVuSans-Bold-93\"/>\n     <path id=\"DejaVuSans-Bold-32\"/>\n     <path d=\"M 63.375 33.296875 \nL 63.375 0 \nL 45.796875 0 \nL 45.796875 5.421875 \nL 45.796875 25.484375 \nQ 45.796875 32.5625 45.484375 35.25 \nQ 45.171875 37.9375 44.390625 39.203125 \nQ 43.359375 40.921875 41.59375 41.875 \nQ 39.84375 42.828125 37.59375 42.828125 \nQ 32.125 42.828125 29 38.59375 \nQ 25.875 34.375 25.875 26.90625 \nL 25.875 0 \nL 8.40625 0 \nL 8.40625 54.6875 \nL 25.875 54.6875 \nL 25.875 46.6875 \nQ 29.828125 51.46875 34.265625 53.734375 \nQ 38.71875 56 44.09375 56 \nQ 53.5625 56 58.46875 50.1875 \nQ 63.375 44.390625 63.375 33.296875 \nz\n\" id=\"DejaVuSans-Bold-110\"/>\n     <path d=\"M 7.8125 21.296875 \nL 7.8125 54.6875 \nL 25.390625 54.6875 \nL 25.390625 49.21875 \nQ 25.390625 44.78125 25.34375 38.0625 \nQ 25.296875 31.34375 25.296875 29.109375 \nQ 25.296875 22.515625 25.640625 19.609375 \nQ 25.984375 16.703125 26.8125 15.375 \nQ 27.875 13.671875 29.609375 12.734375 \nQ 31.34375 11.8125 33.59375 11.8125 \nQ 39.0625 11.8125 42.1875 16.015625 \nQ 45.3125 20.21875 45.3125 27.6875 \nL 45.3125 54.6875 \nL 62.796875 54.6875 \nL 62.796875 0 \nL 45.3125 0 \nL 45.3125 7.90625 \nQ 41.359375 3.125 36.9375 0.84375 \nQ 32.515625 -1.421875 27.203125 -1.421875 \nQ 17.71875 -1.421875 12.765625 4.390625 \nQ 7.8125 10.203125 7.8125 21.296875 \nz\n\" id=\"DejaVuSans-Bold-117\"/>\n     <path d=\"M 59.078125 45.609375 \nQ 62.40625 50.6875 66.96875 53.34375 \nQ 71.53125 56 77 56 \nQ 86.421875 56 91.359375 50.1875 \nQ 96.296875 44.390625 96.296875 33.296875 \nL 96.296875 0 \nL 78.71875 0 \nL 78.71875 28.515625 \nQ 78.765625 29.15625 78.78125 29.828125 \nQ 78.8125 30.515625 78.8125 31.78125 \nQ 78.8125 37.59375 77.09375 40.203125 \nQ 75.390625 42.828125 71.578125 42.828125 \nQ 66.609375 42.828125 63.890625 38.71875 \nQ 61.1875 34.625 61.078125 26.859375 \nL 61.078125 0 \nL 43.5 0 \nL 43.5 28.515625 \nQ 43.5 37.59375 41.9375 40.203125 \nQ 40.375 42.828125 36.375 42.828125 \nQ 31.34375 42.828125 28.609375 38.703125 \nQ 25.875 34.578125 25.875 26.90625 \nL 25.875 0 \nL 8.296875 0 \nL 8.296875 54.6875 \nL 25.875 54.6875 \nL 25.875 46.6875 \nQ 29.109375 51.3125 33.28125 53.65625 \nQ 37.453125 56 42.484375 56 \nQ 48.140625 56 52.484375 53.265625 \nQ 56.84375 50.53125 59.078125 45.609375 \nz\n\" id=\"DejaVuSans-Bold-109\"/>\n     <path d=\"M 37.5 11.28125 \nQ 43.109375 11.28125 46.0625 15.375 \nQ 49.03125 19.484375 49.03125 27.296875 \nQ 49.03125 35.109375 46.0625 39.203125 \nQ 43.109375 43.3125 37.5 43.3125 \nQ 31.890625 43.3125 28.875 39.1875 \nQ 25.875 35.0625 25.875 27.296875 \nQ 25.875 19.53125 28.875 15.40625 \nQ 31.890625 11.28125 37.5 11.28125 \nz\nM 25.875 46.6875 \nQ 29.5 51.46875 33.890625 53.734375 \nQ 38.28125 56 44 56 \nQ 54.109375 56 60.59375 47.96875 \nQ 67.09375 39.9375 67.09375 27.296875 \nQ 67.09375 14.65625 60.59375 6.609375 \nQ 54.109375 -1.421875 44 -1.421875 \nQ 38.28125 -1.421875 33.890625 0.84375 \nQ 29.5 3.125 25.875 7.90625 \nL 25.875 0 \nL 8.40625 0 \nL 8.40625 75.984375 \nL 25.875 75.984375 \nz\n\" id=\"DejaVuSans-Bold-98\"/>\n     <path d=\"M 62.984375 27.484375 \nL 62.984375 22.515625 \nL 22.125 22.515625 \nQ 22.75 16.359375 26.5625 13.28125 \nQ 30.375 10.203125 37.203125 10.203125 \nQ 42.71875 10.203125 48.5 11.84375 \nQ 54.296875 13.484375 60.40625 16.796875 \nL 60.40625 3.328125 \nQ 54.203125 0.984375 48 -0.21875 \nQ 41.796875 -1.421875 35.59375 -1.421875 \nQ 20.75 -1.421875 12.515625 6.125 \nQ 4.296875 13.671875 4.296875 27.296875 \nQ 4.296875 40.671875 12.375 48.328125 \nQ 20.453125 56 34.625 56 \nQ 47.515625 56 55.25 48.234375 \nQ 62.984375 40.484375 62.984375 27.484375 \nz\nM 45.015625 33.296875 \nQ 45.015625 38.28125 42.109375 41.328125 \nQ 39.203125 44.390625 34.515625 44.390625 \nQ 29.4375 44.390625 26.265625 41.53125 \nQ 23.09375 38.671875 22.3125 33.296875 \nz\n\" id=\"DejaVuSans-Bold-101\"/>\n     <path d=\"M 49.03125 39.796875 \nQ 46.734375 40.875 44.453125 41.375 \nQ 42.1875 41.890625 39.890625 41.890625 \nQ 33.15625 41.890625 29.515625 37.5625 \nQ 25.875 33.25 25.875 25.203125 \nL 25.875 0 \nL 8.40625 0 \nL 8.40625 54.6875 \nL 25.875 54.6875 \nL 25.875 45.703125 \nQ 29.25 51.078125 33.609375 53.53125 \nQ 37.984375 56 44.09375 56 \nQ 44.96875 56 45.984375 55.921875 \nQ 47.015625 55.859375 48.96875 55.609375 \nz\n\" id=\"DejaVuSans-Bold-114\"/>\n     <path d=\"M 34.421875 43.5 \nQ 28.609375 43.5 25.5625 39.328125 \nQ 22.515625 35.15625 22.515625 27.296875 \nQ 22.515625 19.4375 25.5625 15.25 \nQ 28.609375 11.078125 34.421875 11.078125 \nQ 40.140625 11.078125 43.15625 15.25 \nQ 46.1875 19.4375 46.1875 27.296875 \nQ 46.1875 35.15625 43.15625 39.328125 \nQ 40.140625 43.5 34.421875 43.5 \nz\nM 34.421875 56 \nQ 48.53125 56 56.46875 48.375 \nQ 64.40625 40.765625 64.40625 27.296875 \nQ 64.40625 13.8125 56.46875 6.1875 \nQ 48.53125 -1.421875 34.421875 -1.421875 \nQ 20.265625 -1.421875 12.28125 6.1875 \nQ 4.296875 13.8125 4.296875 27.296875 \nQ 4.296875 40.765625 12.28125 48.375 \nQ 20.265625 56 34.421875 56 \nz\n\" id=\"DejaVuSans-Bold-111\"/>\n     <path d=\"M 44.390625 75.984375 \nL 44.390625 64.5 \nL 34.71875 64.5 \nQ 31 64.5 29.53125 63.15625 \nQ 28.078125 61.8125 28.078125 58.5 \nL 28.078125 54.6875 \nL 43.015625 54.6875 \nL 43.015625 42.1875 \nL 28.078125 42.1875 \nL 28.078125 0 \nL 10.59375 0 \nL 10.59375 42.1875 \nL 1.90625 42.1875 \nL 1.90625 54.6875 \nL 10.59375 54.6875 \nL 10.59375 58.5 \nQ 10.59375 67.4375 15.578125 71.703125 \nQ 20.5625 75.984375 31 75.984375 \nz\n\" id=\"DejaVuSans-Bold-102\"/>\n     <path d=\"M 25.875 7.90625 \nL 25.875 -20.796875 \nL 8.40625 -20.796875 \nL 8.40625 54.6875 \nL 25.875 54.6875 \nL 25.875 46.6875 \nQ 29.5 51.46875 33.890625 53.734375 \nQ 38.28125 56 44 56 \nQ 54.109375 56 60.59375 47.96875 \nQ 67.09375 39.9375 67.09375 27.296875 \nQ 67.09375 14.65625 60.59375 6.609375 \nQ 54.109375 -1.421875 44 -1.421875 \nQ 38.28125 -1.421875 33.890625 0.84375 \nQ 29.5 3.125 25.875 7.90625 \nz\nM 37.5 43.3125 \nQ 31.890625 43.3125 28.875 39.1875 \nQ 25.875 35.0625 25.875 27.296875 \nQ 25.875 19.53125 28.875 15.40625 \nQ 31.890625 11.28125 37.5 11.28125 \nQ 43.109375 11.28125 46.0625 15.375 \nQ 49.03125 19.484375 49.03125 27.296875 \nQ 49.03125 35.109375 46.0625 39.203125 \nQ 43.109375 43.3125 37.5 43.3125 \nz\n\" id=\"DejaVuSans-Bold-112\"/>\n     <path d=\"M 8.40625 75.984375 \nL 25.875 75.984375 \nL 25.875 0 \nL 8.40625 0 \nz\n\" id=\"DejaVuSans-Bold-108\"/>\n     <path d=\"M 27.484375 70.21875 \nL 27.484375 54.6875 \nL 45.515625 54.6875 \nL 45.515625 42.1875 \nL 27.484375 42.1875 \nL 27.484375 19 \nQ 27.484375 15.1875 29 13.84375 \nQ 30.515625 12.5 35.015625 12.5 \nL 44 12.5 \nL 44 0 \nL 29 0 \nQ 18.65625 0 14.328125 4.3125 \nQ 10.015625 8.640625 10.015625 19 \nL 10.015625 42.1875 \nL 1.3125 42.1875 \nL 1.3125 54.6875 \nL 10.015625 54.6875 \nL 10.015625 70.21875 \nz\n\" id=\"DejaVuSans-Bold-116\"/>\n     <path d=\"M 51.125 52.984375 \nL 51.125 39.703125 \nQ 45.515625 42.046875 40.28125 43.21875 \nQ 35.0625 44.390625 30.421875 44.390625 \nQ 25.4375 44.390625 23.015625 43.140625 \nQ 20.609375 41.890625 20.609375 39.3125 \nQ 20.609375 37.203125 22.4375 36.078125 \nQ 24.265625 34.96875 29 34.421875 \nL 32.078125 33.984375 \nQ 45.515625 32.28125 50.140625 28.375 \nQ 54.78125 24.46875 54.78125 16.109375 \nQ 54.78125 7.375 48.328125 2.96875 \nQ 41.890625 -1.421875 29.109375 -1.421875 \nQ 23.6875 -1.421875 17.890625 -0.5625 \nQ 12.109375 0.296875 6 2 \nL 6 15.28125 \nQ 11.234375 12.75 16.71875 11.46875 \nQ 22.21875 10.203125 27.875 10.203125 \nQ 33.015625 10.203125 35.59375 11.609375 \nQ 38.1875 13.03125 38.1875 15.828125 \nQ 38.1875 18.171875 36.40625 19.3125 \nQ 34.625 20.453125 29.296875 21.09375 \nL 26.21875 21.484375 \nQ 14.546875 22.953125 9.859375 26.90625 \nQ 5.171875 30.859375 5.171875 38.921875 \nQ 5.171875 47.609375 11.125 51.796875 \nQ 17.09375 56 29.390625 56 \nQ 34.234375 56 39.546875 55.265625 \nQ 44.875 54.546875 51.125 52.984375 \nz\n\" id=\"DejaVuSans-Bold-115\"/>\n     <path d=\"M 1.515625 54.6875 \nL 19 54.6875 \nL 32.625 16.890625 \nL 46.1875 54.6875 \nL 63.71875 54.6875 \nL 42.1875 0 \nL 23 0 \nz\n\" id=\"DejaVuSans-Bold-118\"/>\n     <path d=\"M 1.21875 54.6875 \nL 18.703125 54.6875 \nL 33.40625 17.578125 \nL 45.90625 54.6875 \nL 63.375 54.6875 \nL 40.375 -5.171875 \nQ 36.921875 -14.3125 32.296875 -17.9375 \nQ 27.6875 -21.578125 20.125 -21.578125 \nL 10.015625 -21.578125 \nL 10.015625 -10.109375 \nL 15.484375 -10.109375 \nQ 19.921875 -10.109375 21.9375 -8.6875 \nQ 23.96875 -7.28125 25.09375 -3.609375 \nL 25.59375 -2.09375 \nz\n\" id=\"DejaVuSans-Bold-121\"/>\n     <path d=\"M 25.6875 72.90625 \nL 36.53125 72.90625 \nL 10.796875 -9.28125 \nL 0 -9.28125 \nz\n\" id=\"DejaVuSans-Bold-47\"/>\n     <path d=\"M 32.90625 24.609375 \nQ 27.4375 24.609375 24.671875 22.75 \nQ 21.921875 20.90625 21.921875 17.28125 \nQ 21.921875 13.96875 24.140625 12.078125 \nQ 26.375 10.203125 30.328125 10.203125 \nQ 35.25 10.203125 38.625 13.734375 \nQ 42 17.28125 42 22.609375 \nL 42 24.609375 \nz\nM 59.625 31.203125 \nL 59.625 0 \nL 42 0 \nL 42 8.109375 \nQ 38.484375 3.125 34.078125 0.84375 \nQ 29.6875 -1.421875 23.390625 -1.421875 \nQ 14.890625 -1.421875 9.59375 3.53125 \nQ 4.296875 8.5 4.296875 16.40625 \nQ 4.296875 26.03125 10.90625 30.515625 \nQ 17.53125 35.015625 31.6875 35.015625 \nL 42 35.015625 \nL 42 36.375 \nQ 42 40.53125 38.71875 42.453125 \nQ 35.453125 44.390625 28.515625 44.390625 \nQ 22.90625 44.390625 18.0625 43.265625 \nQ 13.234375 42.140625 9.078125 39.890625 \nL 9.078125 53.21875 \nQ 14.703125 54.59375 20.359375 55.296875 \nQ 26.03125 56 31.6875 56 \nQ 46.484375 56 53.046875 50.171875 \nQ 59.625 44.34375 59.625 31.203125 \nz\n\" id=\"DejaVuSans-Bold-97\"/>\n     <path d=\"M 11.1875 54.6875 \nL 28.8125 54.6875 \nL 28.8125 35.796875 \nL 11.1875 35.796875 \nz\nM 11.1875 18.890625 \nL 28.8125 18.890625 \nL 28.8125 0 \nL 11.1875 0 \nz\n\" id=\"DejaVuSans-Bold-58\"/>\n     <path d=\"M 36.1875 35.984375 \nQ 31.25 35.984375 28.78125 32.78125 \nQ 26.3125 29.59375 26.3125 23.1875 \nQ 26.3125 16.796875 28.78125 13.59375 \nQ 31.25 10.40625 36.1875 10.40625 \nQ 41.15625 10.40625 43.625 13.59375 \nQ 46.09375 16.796875 46.09375 23.1875 \nQ 46.09375 29.59375 43.625 32.78125 \nQ 41.15625 35.984375 36.1875 35.984375 \nz\nM 59.421875 71 \nL 59.421875 57.515625 \nQ 54.78125 59.71875 50.671875 60.765625 \nQ 46.578125 61.8125 42.671875 61.8125 \nQ 34.28125 61.8125 29.59375 57.140625 \nQ 24.90625 52.484375 24.125 43.3125 \nQ 27.34375 45.703125 31.09375 46.890625 \nQ 34.859375 48.09375 39.3125 48.09375 \nQ 50.484375 48.09375 57.34375 41.546875 \nQ 64.203125 35.015625 64.203125 24.421875 \nQ 64.203125 12.703125 56.53125 5.640625 \nQ 48.875 -1.421875 35.984375 -1.421875 \nQ 21.78125 -1.421875 13.984375 8.171875 \nQ 6.203125 17.78125 6.203125 35.40625 \nQ 6.203125 53.46875 15.3125 63.796875 \nQ 24.421875 74.125 40.28125 74.125 \nQ 45.3125 74.125 50.046875 73.34375 \nQ 54.78125 72.5625 59.421875 71 \nz\n\" id=\"DejaVuSans-Bold-54\"/>\n     <path d=\"M 10.015625 1.609375 \nL 10.015625 15.09375 \nQ 14.5 12.984375 18.59375 11.9375 \nQ 22.703125 10.890625 26.703125 10.890625 \nQ 35.109375 10.890625 39.796875 15.546875 \nQ 44.484375 20.21875 45.3125 29.390625 \nQ 42 26.953125 38.234375 25.734375 \nQ 34.46875 24.515625 30.078125 24.515625 \nQ 18.890625 24.515625 12.03125 31.03125 \nQ 5.171875 37.546875 5.171875 48.1875 \nQ 5.171875 59.96875 12.8125 67.046875 \nQ 20.453125 74.125 33.296875 74.125 \nQ 47.5625 74.125 55.375 64.5 \nQ 63.1875 54.890625 63.1875 37.3125 \nQ 63.1875 19.234375 54.046875 8.90625 \nQ 44.921875 -1.421875 29 -1.421875 \nQ 23.875 -1.421875 19.1875 -0.65625 \nQ 14.5 0.09375 10.015625 1.609375 \nz\nM 33.203125 36.71875 \nQ 38.140625 36.71875 40.625 39.90625 \nQ 43.109375 43.109375 43.109375 49.515625 \nQ 43.109375 55.859375 40.625 59.078125 \nQ 38.140625 62.3125 33.203125 62.3125 \nQ 28.265625 62.3125 25.78125 59.078125 \nQ 23.296875 55.859375 23.296875 49.515625 \nQ 23.296875 43.109375 25.78125 39.90625 \nQ 28.265625 36.71875 33.203125 36.71875 \nz\n\" id=\"DejaVuSans-Bold-57\"/>\n     <path d=\"M 34.8125 32.625 \nQ 29.546875 32.625 26.703125 29.734375 \nQ 23.875 26.859375 23.875 21.484375 \nQ 23.875 16.109375 26.703125 13.25 \nQ 29.546875 10.40625 34.8125 10.40625 \nQ 40.046875 10.40625 42.828125 13.25 \nQ 45.609375 16.109375 45.609375 21.484375 \nQ 45.609375 26.90625 42.828125 29.765625 \nQ 40.046875 32.625 34.8125 32.625 \nz\nM 21.09375 38.8125 \nQ 14.453125 40.828125 11.078125 44.96875 \nQ 7.71875 49.125 7.71875 55.328125 \nQ 7.71875 64.546875 14.59375 69.375 \nQ 21.484375 74.21875 34.8125 74.21875 \nQ 48.046875 74.21875 54.921875 69.40625 \nQ 61.8125 64.59375 61.8125 55.328125 \nQ 61.8125 49.125 58.421875 44.96875 \nQ 55.03125 40.828125 48.390625 38.8125 \nQ 55.8125 36.765625 59.59375 32.15625 \nQ 63.375 27.546875 63.375 20.515625 \nQ 63.375 9.671875 56.171875 4.125 \nQ 48.96875 -1.421875 34.8125 -1.421875 \nQ 20.609375 -1.421875 13.359375 4.125 \nQ 6.109375 9.671875 6.109375 20.515625 \nQ 6.109375 27.546875 9.890625 32.15625 \nQ 13.671875 36.765625 21.09375 38.8125 \nz\nM 25.484375 53.421875 \nQ 25.484375 49.078125 27.90625 46.734375 \nQ 30.328125 44.390625 34.8125 44.390625 \nQ 39.203125 44.390625 41.59375 46.734375 \nQ 44 49.078125 44 53.421875 \nQ 44 57.765625 41.59375 60.078125 \nQ 39.203125 62.40625 34.8125 62.40625 \nQ 30.328125 62.40625 27.90625 60.0625 \nQ 25.484375 57.71875 25.484375 53.421875 \nz\n\" id=\"DejaVuSans-Bold-56\"/>\n    </defs>\n    <g transform=\"translate(48.90125 22.396875)scale(0.2 -0.2)\">\n     <use xlink:href=\"#DejaVuSans-Bold-91\"/>\n     <use x=\"45.703125\" xlink:href=\"#DejaVuSans-Bold-84\"/>\n     <use x=\"113.916016\" xlink:href=\"#DejaVuSans-Bold-82\"/>\n     <use x=\"190.917969\" xlink:href=\"#DejaVuSans-Bold-65\"/>\n     <use x=\"268.310547\" xlink:href=\"#DejaVuSans-Bold-73\"/>\n     <use x=\"305.517578\" xlink:href=\"#DejaVuSans-Bold-78\"/>\n     <use x=\"389.208984\" xlink:href=\"#DejaVuSans-Bold-93\"/>\n     <use x=\"434.912109\" xlink:href=\"#DejaVuSans-Bold-32\"/>\n     <use x=\"469.726562\" xlink:href=\"#DejaVuSans-Bold-110\"/>\n     <use x=\"540.917969\" xlink:href=\"#DejaVuSans-Bold-117\"/>\n     <use x=\"612.109375\" xlink:href=\"#DejaVuSans-Bold-109\"/>\n     <use x=\"716.308594\" xlink:href=\"#DejaVuSans-Bold-98\"/>\n     <use x=\"787.890625\" xlink:href=\"#DejaVuSans-Bold-101\"/>\n     <use x=\"855.712891\" xlink:href=\"#DejaVuSans-Bold-114\"/>\n     <use x=\"905.029297\" xlink:href=\"#DejaVuSans-Bold-32\"/>\n     <use x=\"939.84375\" xlink:href=\"#DejaVuSans-Bold-111\"/>\n     <use x=\"1008.544922\" xlink:href=\"#DejaVuSans-Bold-102\"/>\n     <use x=\"1052.050781\" xlink:href=\"#DejaVuSans-Bold-32\"/>\n     <use x=\"1086.865234\" xlink:href=\"#DejaVuSans-Bold-112\"/>\n     <use x=\"1158.447266\" xlink:href=\"#DejaVuSans-Bold-114\"/>\n     <use x=\"1207.763672\" xlink:href=\"#DejaVuSans-Bold-111\"/>\n     <use x=\"1276.464844\" xlink:href=\"#DejaVuSans-Bold-98\"/>\n     <use x=\"1348.046875\" xlink:href=\"#DejaVuSans-Bold-108\"/>\n     <use x=\"1382.324219\" xlink:href=\"#DejaVuSans-Bold-101\"/>\n     <use x=\"1450.146484\" xlink:href=\"#DejaVuSans-Bold-109\"/>\n     <use x=\"1554.345703\" xlink:href=\"#DejaVuSans-Bold-32\"/>\n     <use x=\"1589.160156\" xlink:href=\"#DejaVuSans-Bold-116\"/>\n     <use x=\"1636.962891\" xlink:href=\"#DejaVuSans-Bold-111\"/>\n     <use x=\"1705.664062\" xlink:href=\"#DejaVuSans-Bold-32\"/>\n     <use x=\"1740.478516\" xlink:href=\"#DejaVuSans-Bold-115\"/>\n     <use x=\"1800\" xlink:href=\"#DejaVuSans-Bold-111\"/>\n     <use x=\"1868.701172\" xlink:href=\"#DejaVuSans-Bold-108\"/>\n     <use x=\"1902.978516\" xlink:href=\"#DejaVuSans-Bold-118\"/>\n     <use x=\"1968.164062\" xlink:href=\"#DejaVuSans-Bold-101\"/>\n     <use x=\"2035.986328\" xlink:href=\"#DejaVuSans-Bold-32\"/>\n     <use x=\"2070.800781\" xlink:href=\"#DejaVuSans-Bold-98\"/>\n     <use x=\"2142.382812\" xlink:href=\"#DejaVuSans-Bold-121\"/>\n     <use x=\"2207.568359\" xlink:href=\"#DejaVuSans-Bold-32\"/>\n     <use x=\"2242.382812\" xlink:href=\"#DejaVuSans-Bold-117\"/>\n     <use x=\"2313.574219\" xlink:href=\"#DejaVuSans-Bold-115\"/>\n     <use x=\"2373.095703\" xlink:href=\"#DejaVuSans-Bold-101\"/>\n     <use x=\"2440.917969\" xlink:href=\"#DejaVuSans-Bold-114\"/>\n     <use x=\"2490.234375\" xlink:href=\"#DejaVuSans-Bold-32\"/>\n     <use x=\"2525.048828\" xlink:href=\"#DejaVuSans-Bold-47\"/>\n     <use x=\"2561.572266\" xlink:href=\"#DejaVuSans-Bold-32\"/>\n     <use x=\"2596.386719\" xlink:href=\"#DejaVuSans-Bold-116\"/>\n     <use x=\"2644.189453\" xlink:href=\"#DejaVuSans-Bold-111\"/>\n     <use x=\"2712.890625\" xlink:href=\"#DejaVuSans-Bold-116\"/>\n     <use x=\"2760.693359\" xlink:href=\"#DejaVuSans-Bold-97\"/>\n     <use x=\"2828.173828\" xlink:href=\"#DejaVuSans-Bold-108\"/>\n     <use x=\"2862.451172\" xlink:href=\"#DejaVuSans-Bold-32\"/>\n     <use x=\"2897.265625\" xlink:href=\"#DejaVuSans-Bold-117\"/>\n     <use x=\"2968.457031\" xlink:href=\"#DejaVuSans-Bold-115\"/>\n     <use x=\"3027.978516\" xlink:href=\"#DejaVuSans-Bold-101\"/>\n     <use x=\"3095.800781\" xlink:href=\"#DejaVuSans-Bold-114\"/>\n     <use x=\"3145.117188\" xlink:href=\"#DejaVuSans-Bold-32\"/>\n     <use x=\"3179.931641\" xlink:href=\"#DejaVuSans-Bold-110\"/>\n     <use x=\"3251.123047\" xlink:href=\"#DejaVuSans-Bold-117\"/>\n     <use x=\"3322.314453\" xlink:href=\"#DejaVuSans-Bold-109\"/>\n     <use x=\"3426.513672\" xlink:href=\"#DejaVuSans-Bold-32\"/>\n     <use x=\"3461.328125\" xlink:href=\"#DejaVuSans-Bold-58\"/>\n     <use x=\"3501.318359\" xlink:href=\"#DejaVuSans-Bold-32\"/>\n     <use x=\"3536.132812\" xlink:href=\"#DejaVuSans-Bold-54\"/>\n     <use x=\"3605.712891\" xlink:href=\"#DejaVuSans-Bold-54\"/>\n     <use x=\"3675.292969\" xlink:href=\"#DejaVuSans-Bold-57\"/>\n     <use x=\"3744.873047\" xlink:href=\"#DejaVuSans-Bold-56\"/>\n    </g>\n   </g>\n  </g>\n </g>\n <defs>\n  <clipPath id=\"p32c9e3fb15\">\n   <rect height=\"271.8\" width=\"892.8\" x=\"48.90125\" y=\"28.396875\"/>\n  </clipPath>\n </defs>\n</svg>\n",
      "image/png": "[encoded data removed]"
     },
     "metadata": {}
    }
   ],
   "source": [
    "plt.figure(figsize=(16,5))\n",
    "plt.hist(train.groupby(\"userID\")['answerCode'].count(), bins = 100, rwidth=0.85, color='skyblue')\n",
    "plt.title(f\"[TRAIN] number of problem to solve by user / total user num : {len(train.groupby('userID')['answerCode'].count())}\", loc='left', weight='bold', size=20)\n",
    "plt.xlabel('number of prob')\n",
    "plt.ylabel('user distribution')\n",
    "_mean = train.groupby(\"userID\")['answerCode'].count().mean()\n",
    "_median = train.groupby(\"userID\")['answerCode'].count().median()\n",
    "plt.axvline(x = _mean, color = 'r')\n",
    "plt.axvline(x = _median, color = 'orange')\n",
    "plt.text(x = _mean+20, y = 400,s = f\"mean value : {_mean:.1f}\"  )\n",
    "plt.text(x = _median+20, y = 500,s = f\"median(Q2) value : {_median:.1f}\"  );"
   ]
  },
  {
   "cell_type": "markdown",
   "id": "30ef98a6-4c95-4667-851c-d851ab6d841e",
   "metadata": {},
   "source": [
    "* user 별로 푼 문제의 수를 나타낸다.\n",
    "1. 문제를 적게 푼 사람이 400~500 명씩 꽤 많은 분포가 있는 것을 알 수 있다.  \n",
    "    : `문제 수가 적을 수록 과적합될 여지`가 많기 때문에, `문제를 적게 푼 user 에 대해서 모델의 결과값을 비교 분석`할 필요가 있겠다."
   ]
  },
  {
   "cell_type": "code",
   "execution_count": 454,
   "id": "7f877f5c-8359-4ba6-b77d-80bfe3109372",
   "metadata": {},
   "outputs": [
    {
     "name": "stdout",
     "output_type": "stream",
     "text": [
      "50 문제 이하로 푼 user 의 전체 대비 비율 :     16.45%\n",
      "100 문제 이하로 푼 user 의 전체 대비 비율 :     30.20%\n",
      "150 문제 이하로 푼 user 의 전체 대비 비율 :     39.31%\n",
      "200 문제 이하로 푼 user 의 전체 대비 비율 :     45.76%\n"
     ]
    }
   ],
   "source": [
    "for x in [50, 100, 150, 200]:\n",
    "    print(f\"{x} 문제 이하로 푼 user 의 전체 대비 비율 : \\\n",
    "    {(train.groupby('userID')['answerCode'].count() < x).sum() / len(train.groupby('userID')['answerCode'].count())*100:.2f}%\")"
   ]
  },
  {
   "cell_type": "markdown",
   "id": "d9d7dd3b-4f1b-4896-89c0-732cb360b5f0",
   "metadata": {},
   "source": [
    "위처럼 문제를 적게 풀면 과적합될 확률이 올라가는데, 결과 비교를 추후에 대조해볼 필요가 있겠다."
   ]
  },
  {
   "cell_type": "code",
   "execution_count": 455,
   "id": "fe2e7dad-bf38-4868-a2d6-2ea7a007ea9e",
   "metadata": {},
   "outputs": [
    {
     "data": {
      "image/png": "[encoded data removed]",
      "text/plain": [
       "<Figure size 1152x288 with 1 Axes>"
      ]
     },
     "metadata": {
      "needs_background": "light"
     },
     "output_type": "display_data"
    }
   ],
   "source": [
    "plt.figure(figsize=(16,4))\n",
    "answer_ratio_by_user = train.groupby('userID')['answerCode'].sum()/train.groupby('userID')['answerCode'].count()*100\n",
    "plt.hist(answer_ratio_by_user, bins = 20, rwidth=0.9)\n",
    "plt.title(f\"answer ratio / total user num\")\n",
    "plt.xlabel('answer ratio 0-100 %')\n",
    "plt.ylabel('distribution of user number')\n",
    "_mean = answer_ratio_by_user.mean()\n",
    "_median = answer_ratio_by_user.median()\n",
    "plt.axvline(x = _mean, color = 'r')\n",
    "plt.axvline(x = _median, color = 'orange')\n",
    "plt.text(x = _mean, y = 700,s = f\"mean value : {_mean:.1f}%\")\n",
    "plt.text(x = _median, y = 600,s = f\"median(Q2) value : {_median:.1f}%\");"
   ]
  },
  {
   "cell_type": "markdown",
   "id": "e8a16ca1-12ca-41f8-9928-c6ec7818e79d",
   "metadata": {},
   "source": [
    "* 학생별 정답률의 분포는 bins 20 으로 위와 같다. 평균 60%대 정도가 나오는 것을 알 수 있다."
   ]
  },
  {
   "cell_type": "markdown",
   "id": "de6f1a20-4a3a-403d-aaee-1ba2b651d8f8",
   "metadata": {},
   "source": [
    "### 2) 시험지에 따른 통계량"
   ]
  },
  {
   "cell_type": "code",
   "execution_count": 456,
   "id": "ae180594-7649-43eb-8606-71ed4cfac618",
   "metadata": {},
   "outputs": [
    {
     "name": "stdout",
     "output_type": "stream",
     "text": [
      "testId 의 종류 : 1537\n"
     ]
    }
   ],
   "source": [
    "print(f\"testId 의 종류 : {train.testId.nunique()}\")"
   ]
  },
  {
   "cell_type": "markdown",
   "id": "8d78b193-9f44-4bc1-89fa-b798c23aa02c",
   "metadata": {},
   "source": [
    "2번째 자리에 의해서 정답률이 달라지는 분포가 생기므로 관련하여 groupby 시켜보자."
   ]
  },
  {
   "cell_type": "code",
   "execution_count": 457,
   "id": "dca9e9fd-f4b9-4b67-a48b-3a4ac902f860",
   "metadata": {},
   "outputs": [
    {
     "data": {
      "image/png": "[encoded data removed]",
      "text/plain": [
       "<Figure size 432x288 with 1 Axes>"
      ]
     },
     "metadata": {
      "needs_background": "light"
     },
     "output_type": "display_data"
    }
   ],
   "source": [
    "t_group = train['test_group'].value_counts()\n",
    "t_group = t_group.sort_index()\n",
    "plt.bar(t_group.index, t_group.values)\n",
    "plt.title('number of data by test_group');"
   ]
  },
  {
   "cell_type": "code",
   "execution_count": 458,
   "id": "4c98490e-5802-41f3-a2ca-dcbea46ba60b",
   "metadata": {},
   "outputs": [
    {
     "data": {
      "image/png": "[encoded data removed]",
      "text/plain": [
       "<Figure size 864x360 with 1 Axes>"
      ]
     },
     "metadata": {
      "needs_background": "light"
     },
     "output_type": "display_data"
    }
   ],
   "source": [
    "t_sum = train.groupby('test_group')['answerCode'].sum()\n",
    "t_count = train.groupby('test_group')['answerCode'].count()\n",
    "t_answer = train.groupby('test_group')['answerCode'].sum()/train.groupby('test_group')['answerCode'].count()*100\n",
    "\n",
    "plt.figure(figsize=(12,5))\n",
    "plt.bar(t_count.index, t_count.values, color='c')\n",
    "plt.bar(t_sum.index, t_sum.values, color='orange')\n",
    "plt.title('orange : 1 / blue : 0+1')\n",
    "\n",
    "for i in range(9):\n",
    "    plt.text(x = int(t_answer.index[i])-1.2,\n",
    "             y = t_sum.values[i],\n",
    "             s = f\"{t_answer[i]:.1f}%\")\n",
    "    \n",
    "plt.show();"
   ]
  },
  {
   "cell_type": "markdown",
   "id": "65d5f874-240f-45ad-9373-b68f8fce787b",
   "metadata": {},
   "source": [
    "* test_group 에 따른 정답률이 다른 것을 알 수 있다."
   ]
  },
  {
   "cell_type": "code",
   "execution_count": 459,
   "id": "43920b46-6864-4a15-97cd-6a37162e2c22",
   "metadata": {},
   "outputs": [
    {
     "name": "stdout",
     "output_type": "stream",
     "text": [
      "user 별로 test_group 의 종류에 몇 가지나 노출 되는가? : [3 2 1]\n"
     ]
    }
   ],
   "source": [
    "print(f\"user 별로 test_group 의 종류에 몇 가지나 노출 되는가? : {train.groupby('userID')['test_group'].nunique().unique()}\")"
   ]
  },
  {
   "cell_type": "markdown",
   "id": "f8a8ab8c-9954-4ad5-aa44-bd4050379523",
   "metadata": {},
   "source": [
    "1. user 별로 test_group 에 최소 1가지에서 최대 3가지까지 노출 된다.\n",
    "2. test_group 의 숫자가 올라가면서 정답률이 떨어지는 경향성으로 보아 `문제(테스트 시험지)의 난이도`에 관한 지표일 수도 있겠다.\n",
    "\n",
    "3. 토론 글을 참고하여 초등학교 1-6학년, 중학교 1-3학년 문제라고 볼 수 도 있다.\n",
    "4. 각 user 가 최대 3가지 test_group 에 노출되는 것을 보면 선수학습을 생각할 수 있고, 가장 낮은 숫자가 user의 나이(학년)라고 추정할 수도 있겠다.\n",
    "5. 선수학습을 한 것이라면 그 경우에는 정답률이 더 낮을 수 있겠다. 즉, 본인 나이에 맞는 문제를 풀지 않을 경우 정답률이 더 낮을 수 있겠다.\n",
    "6. 각 user 별 노출되는 test_group 의 nunique 를 추가해줄 경우, 각 학생의 학습 수준에 대한 간접정보를 추가할 수 있겠다.\n",
    "7. 9번 그룹이더라도 그 학년이 풀었을 때의 정답률과 선수학습을 해서 풀었을 때의 정답률을 비교해보자.\n",
    "8. 주어진 숫자가 연속된 1-9 학년을 나타내는 것이 아닐 수 있다. 실제 순서와 매칭되는 순서를 찾아보자.\n",
    "9. 만약 주어진 데이터가 한 user 의 모든 선수학습 데이터를 포함하지 않을 수도 있다. (그럼 4년 이상의 선수학습?)"
   ]
  },
  {
   "cell_type": "code",
   "execution_count": 460,
   "id": "9be54524-07e7-4908-94d0-220a7deaf54c",
   "metadata": {},
   "outputs": [],
   "source": [
    "# 선수학습, 나이추정, 수준추정, 선수학습 하는 사람에 따른 각 그룹별 정답률 추정"
   ]
  },
  {
   "cell_type": "code",
   "execution_count": 461,
   "id": "70e0f76e-ee52-43dc-80fe-6f76e8a2f06b",
   "metadata": {},
   "outputs": [
    {
     "data": {
      "text/html": [
       "<div>\n",
       "<style scoped>\n",
       "    .dataframe tbody tr th:only-of-type {\n",
       "        vertical-align: middle;\n",
       "    }\n",
       "\n",
       "    .dataframe tbody tr th {\n",
       "        vertical-align: top;\n",
       "    }\n",
       "\n",
       "    .dataframe thead th {\n",
       "        text-align: right;\n",
       "    }\n",
       "</style>\n",
       "<table border=\"1\" class=\"dataframe\">\n",
       "  <thead>\n",
       "    <tr style=\"text-align: right;\">\n",
       "      <th></th>\n",
       "      <th>unique</th>\n",
       "      <th>len</th>\n",
       "    </tr>\n",
       "    <tr>\n",
       "      <th>userID</th>\n",
       "      <th></th>\n",
       "      <th></th>\n",
       "    </tr>\n",
       "  </thead>\n",
       "  <tbody>\n",
       "    <tr>\n",
       "      <th>0</th>\n",
       "      <td>[6, 8, 2]</td>\n",
       "      <td>3</td>\n",
       "    </tr>\n",
       "    <tr>\n",
       "      <th>1</th>\n",
       "      <td>[4, 9]</td>\n",
       "      <td>2</td>\n",
       "    </tr>\n",
       "    <tr>\n",
       "      <th>2</th>\n",
       "      <td>[3, 5]</td>\n",
       "      <td>2</td>\n",
       "    </tr>\n",
       "    <tr>\n",
       "      <th>5</th>\n",
       "      <td>[8, 1, 6]</td>\n",
       "      <td>3</td>\n",
       "    </tr>\n",
       "    <tr>\n",
       "      <th>6</th>\n",
       "      <td>[3, 4]</td>\n",
       "      <td>2</td>\n",
       "    </tr>\n",
       "    <tr>\n",
       "      <th>...</th>\n",
       "      <td>...</td>\n",
       "      <td>...</td>\n",
       "    </tr>\n",
       "    <tr>\n",
       "      <th>7436</th>\n",
       "      <td>[5, 3]</td>\n",
       "      <td>2</td>\n",
       "    </tr>\n",
       "    <tr>\n",
       "      <th>7437</th>\n",
       "      <td>[4, 6]</td>\n",
       "      <td>2</td>\n",
       "    </tr>\n",
       "    <tr>\n",
       "      <th>7438</th>\n",
       "      <td>[8, 4, 3]</td>\n",
       "      <td>3</td>\n",
       "    </tr>\n",
       "    <tr>\n",
       "      <th>7440</th>\n",
       "      <td>[5, 3]</td>\n",
       "      <td>2</td>\n",
       "    </tr>\n",
       "    <tr>\n",
       "      <th>7441</th>\n",
       "      <td>[3, 4]</td>\n",
       "      <td>2</td>\n",
       "    </tr>\n",
       "  </tbody>\n",
       "</table>\n",
       "<p>6698 rows × 2 columns</p>\n",
       "</div>"
      ],
      "text/plain": [
       "           unique  len\n",
       "userID                \n",
       "0       [6, 8, 2]    3\n",
       "1          [4, 9]    2\n",
       "2          [3, 5]    2\n",
       "5       [8, 1, 6]    3\n",
       "6          [3, 4]    2\n",
       "...           ...  ...\n",
       "7436       [5, 3]    2\n",
       "7437       [4, 6]    2\n",
       "7438    [8, 4, 3]    3\n",
       "7440       [5, 3]    2\n",
       "7441       [3, 4]    2\n",
       "\n",
       "[6698 rows x 2 columns]"
      ]
     },
     "execution_count": 461,
     "metadata": {},
     "output_type": "execute_result"
    }
   ],
   "source": [
    "_unique = train.groupby('userID')['test_group'].unique().to_frame(\"unique\")\n",
    "_unique['len'] = _unique['unique'].apply(lambda x: len(x))\n",
    "_unique"
   ]
  },
  {
   "cell_type": "code",
   "execution_count": 462,
   "id": "d4e9d8c6-3013-4a8a-8e0d-b8b91ad391d6",
   "metadata": {},
   "outputs": [
    {
     "name": "stdout",
     "output_type": "stream",
     "text": [
      "난이도 1 개를 푼 user 의 수 : 102\n",
      "난이도 2 개를 푼 user 의 수 : 2138\n",
      "난이도 3 개를 푼 user 의 수 : 4458\n"
     ]
    }
   ],
   "source": [
    "for x in [1,2,3]:\n",
    "    print(f\"난이도 {x} 개를 푼 user 의 수 : {(_unique['len']==x).sum()}\")"
   ]
  },
  {
   "cell_type": "code",
   "execution_count": 463,
   "id": "b35b7f0c-43a7-473d-b8a5-b22ffc923db4",
   "metadata": {},
   "outputs": [
    {
     "data": {
      "text/html": [
       "<div>\n",
       "<style scoped>\n",
       "    .dataframe tbody tr th:only-of-type {\n",
       "        vertical-align: middle;\n",
       "    }\n",
       "\n",
       "    .dataframe tbody tr th {\n",
       "        vertical-align: top;\n",
       "    }\n",
       "\n",
       "    .dataframe thead th {\n",
       "        text-align: right;\n",
       "    }\n",
       "</style>\n",
       "<table border=\"1\" class=\"dataframe\">\n",
       "  <thead>\n",
       "    <tr style=\"text-align: right;\">\n",
       "      <th></th>\n",
       "      <th>unique</th>\n",
       "      <th>len</th>\n",
       "      <th>f</th>\n",
       "    </tr>\n",
       "    <tr>\n",
       "      <th>userID</th>\n",
       "      <th></th>\n",
       "      <th></th>\n",
       "      <th></th>\n",
       "    </tr>\n",
       "  </thead>\n",
       "  <tbody>\n",
       "    <tr>\n",
       "      <th>165</th>\n",
       "      <td>[9]</td>\n",
       "      <td>1</td>\n",
       "      <td>9</td>\n",
       "    </tr>\n",
       "    <tr>\n",
       "      <th>218</th>\n",
       "      <td>[5]</td>\n",
       "      <td>1</td>\n",
       "      <td>5</td>\n",
       "    </tr>\n",
       "    <tr>\n",
       "      <th>275</th>\n",
       "      <td>[3]</td>\n",
       "      <td>1</td>\n",
       "      <td>3</td>\n",
       "    </tr>\n",
       "    <tr>\n",
       "      <th>319</th>\n",
       "      <td>[5]</td>\n",
       "      <td>1</td>\n",
       "      <td>5</td>\n",
       "    </tr>\n",
       "    <tr>\n",
       "      <th>344</th>\n",
       "      <td>[3]</td>\n",
       "      <td>1</td>\n",
       "      <td>3</td>\n",
       "    </tr>\n",
       "  </tbody>\n",
       "</table>\n",
       "</div>"
      ],
      "text/plain": [
       "       unique  len  f\n",
       "userID               \n",
       "165       [9]    1  9\n",
       "218       [5]    1  5\n",
       "275       [3]    1  3\n",
       "319       [5]    1  5\n",
       "344       [3]    1  3"
      ]
     },
     "metadata": {},
     "output_type": "display_data"
    },
    {
     "data": {
      "text/plain": [
       "(102, 3)"
      ]
     },
     "metadata": {},
     "output_type": "display_data"
    }
   ],
   "source": [
    "_uni1 = _unique[_unique['len'] == 1]\n",
    "_uni1['f'] = _uni1['unique'].apply(lambda x: x[0])\n",
    "display(_uni1.head(), _uni1.shape)"
   ]
  },
  {
   "cell_type": "code",
   "execution_count": 464,
   "id": "b43142b6-f3c4-4570-99fc-ab700762e061",
   "metadata": {},
   "outputs": [
    {
     "data": {
      "text/html": [
       "<div>\n",
       "<style scoped>\n",
       "    .dataframe tbody tr th:only-of-type {\n",
       "        vertical-align: middle;\n",
       "    }\n",
       "\n",
       "    .dataframe tbody tr th {\n",
       "        vertical-align: top;\n",
       "    }\n",
       "\n",
       "    .dataframe thead th {\n",
       "        text-align: right;\n",
       "    }\n",
       "</style>\n",
       "<table border=\"1\" class=\"dataframe\">\n",
       "  <thead>\n",
       "    <tr style=\"text-align: right;\">\n",
       "      <th></th>\n",
       "      <th>unique</th>\n",
       "      <th>len</th>\n",
       "      <th>f</th>\n",
       "      <th>s</th>\n",
       "      <th>all</th>\n",
       "    </tr>\n",
       "    <tr>\n",
       "      <th>userID</th>\n",
       "      <th></th>\n",
       "      <th></th>\n",
       "      <th></th>\n",
       "      <th></th>\n",
       "      <th></th>\n",
       "    </tr>\n",
       "  </thead>\n",
       "  <tbody>\n",
       "    <tr>\n",
       "      <th>1</th>\n",
       "      <td>[4, 9]</td>\n",
       "      <td>2</td>\n",
       "      <td>4</td>\n",
       "      <td>9</td>\n",
       "      <td>49</td>\n",
       "    </tr>\n",
       "    <tr>\n",
       "      <th>2</th>\n",
       "      <td>[3, 5]</td>\n",
       "      <td>2</td>\n",
       "      <td>3</td>\n",
       "      <td>5</td>\n",
       "      <td>35</td>\n",
       "    </tr>\n",
       "    <tr>\n",
       "      <th>6</th>\n",
       "      <td>[3, 4]</td>\n",
       "      <td>2</td>\n",
       "      <td>3</td>\n",
       "      <td>4</td>\n",
       "      <td>34</td>\n",
       "    </tr>\n",
       "    <tr>\n",
       "      <th>9</th>\n",
       "      <td>[4, 7]</td>\n",
       "      <td>2</td>\n",
       "      <td>4</td>\n",
       "      <td>7</td>\n",
       "      <td>47</td>\n",
       "    </tr>\n",
       "    <tr>\n",
       "      <th>10</th>\n",
       "      <td>[4, 6]</td>\n",
       "      <td>2</td>\n",
       "      <td>4</td>\n",
       "      <td>6</td>\n",
       "      <td>46</td>\n",
       "    </tr>\n",
       "  </tbody>\n",
       "</table>\n",
       "</div>"
      ],
      "text/plain": [
       "        unique  len  f  s all\n",
       "userID                       \n",
       "1       [4, 9]    2  4  9  49\n",
       "2       [3, 5]    2  3  5  35\n",
       "6       [3, 4]    2  3  4  34\n",
       "9       [4, 7]    2  4  7  47\n",
       "10      [4, 6]    2  4  6  46"
      ]
     },
     "metadata": {},
     "output_type": "display_data"
    },
    {
     "data": {
      "text/plain": [
       "(2138, 5)"
      ]
     },
     "metadata": {},
     "output_type": "display_data"
    }
   ],
   "source": [
    "_uni2 = _unique[_unique['len'] == 2]\n",
    "_uni2['unique'] = _uni2['unique'].apply(lambda x: sorted(x))\n",
    "_uni2['f'] = _uni2['unique'].apply(lambda x: x[0]).astype('str')\n",
    "_uni2['s'] = _uni2['unique'].apply(lambda x: x[1]).astype('str')\n",
    "_uni2['all'] = _uni2['f'] + _uni2['s']\n",
    "display(_uni2.head(), _uni2.shape)"
   ]
  },
  {
   "cell_type": "code",
   "execution_count": 465,
   "id": "78fd7c66-f040-4281-901a-312bf2f2bbe7",
   "metadata": {},
   "outputs": [
    {
     "data": {
      "image/png": "[encoded data removed]",
      "text/plain": [
       "<Figure size 576x576 with 1 Axes>"
      ]
     },
     "metadata": {
      "needs_background": "light"
     },
     "output_type": "display_data"
    }
   ],
   "source": [
    "uni2 = _uni2.groupby(['f','s'])['all'].agg(len).unstack()\n",
    "plt.figure(figsize=(8,8))\n",
    "sns.heatmap(uni2, annot=True, fmt='.3g', cbar=False, square=True, cmap='coolwarm');"
   ]
  },
  {
   "cell_type": "markdown",
   "id": "ef433de6-4c46-4e75-8902-ce24eead9c26",
   "metadata": {},
   "source": [
    "* 1번 난이도를 푼 사람이 2-9 난이도를 푼 갯수를 표현하고 있습니다.\n",
    "* 2번 난이도를 풀고 1번을 푼 것과 같은 순서는 고려하지 않고 있습니다.\n",
    "* 이 데이터는 한 유저가 한번에 어떤 난이도를 같이 풀었는지 보여줍니다.\n",
    "* 학년이라고 하기에는 유저별로 모든 난이도가 고려되고 있습니다.(어떤 유저는 [2,3], [2,9] 식이므로 난이도 == 학년 이라고 보기보다는 다른 상황일 것으로 보입니다.)\n"
   ]
  },
  {
   "cell_type": "code",
   "execution_count": 466,
   "id": "854e2602-c5dc-47d1-9d2b-36c089544ce3",
   "metadata": {},
   "outputs": [
    {
     "data": {
      "text/html": [
       "<div>\n",
       "<style scoped>\n",
       "    .dataframe tbody tr th:only-of-type {\n",
       "        vertical-align: middle;\n",
       "    }\n",
       "\n",
       "    .dataframe tbody tr th {\n",
       "        vertical-align: top;\n",
       "    }\n",
       "\n",
       "    .dataframe thead th {\n",
       "        text-align: right;\n",
       "    }\n",
       "</style>\n",
       "<table border=\"1\" class=\"dataframe\">\n",
       "  <thead>\n",
       "    <tr style=\"text-align: right;\">\n",
       "      <th></th>\n",
       "      <th>unique</th>\n",
       "      <th>len</th>\n",
       "      <th>f</th>\n",
       "      <th>s</th>\n",
       "      <th>t</th>\n",
       "      <th>all</th>\n",
       "    </tr>\n",
       "    <tr>\n",
       "      <th>userID</th>\n",
       "      <th></th>\n",
       "      <th></th>\n",
       "      <th></th>\n",
       "      <th></th>\n",
       "      <th></th>\n",
       "      <th></th>\n",
       "    </tr>\n",
       "  </thead>\n",
       "  <tbody>\n",
       "    <tr>\n",
       "      <th>0</th>\n",
       "      <td>[2, 6, 8]</td>\n",
       "      <td>3</td>\n",
       "      <td>2</td>\n",
       "      <td>6</td>\n",
       "      <td>8</td>\n",
       "      <td>268</td>\n",
       "    </tr>\n",
       "    <tr>\n",
       "      <th>5</th>\n",
       "      <td>[1, 6, 8]</td>\n",
       "      <td>3</td>\n",
       "      <td>1</td>\n",
       "      <td>6</td>\n",
       "      <td>8</td>\n",
       "      <td>168</td>\n",
       "    </tr>\n",
       "    <tr>\n",
       "      <th>7</th>\n",
       "      <td>[2, 5, 9]</td>\n",
       "      <td>3</td>\n",
       "      <td>2</td>\n",
       "      <td>5</td>\n",
       "      <td>9</td>\n",
       "      <td>259</td>\n",
       "    </tr>\n",
       "    <tr>\n",
       "      <th>8</th>\n",
       "      <td>[1, 6, 7]</td>\n",
       "      <td>3</td>\n",
       "      <td>1</td>\n",
       "      <td>6</td>\n",
       "      <td>7</td>\n",
       "      <td>167</td>\n",
       "    </tr>\n",
       "    <tr>\n",
       "      <th>11</th>\n",
       "      <td>[3, 4, 7]</td>\n",
       "      <td>3</td>\n",
       "      <td>3</td>\n",
       "      <td>4</td>\n",
       "      <td>7</td>\n",
       "      <td>347</td>\n",
       "    </tr>\n",
       "  </tbody>\n",
       "</table>\n",
       "</div>"
      ],
      "text/plain": [
       "           unique  len  f  s  t  all\n",
       "userID                              \n",
       "0       [2, 6, 8]    3  2  6  8  268\n",
       "5       [1, 6, 8]    3  1  6  8  168\n",
       "7       [2, 5, 9]    3  2  5  9  259\n",
       "8       [1, 6, 7]    3  1  6  7  167\n",
       "11      [3, 4, 7]    3  3  4  7  347"
      ]
     },
     "metadata": {},
     "output_type": "display_data"
    },
    {
     "data": {
      "text/plain": [
       "(4458, 6)"
      ]
     },
     "metadata": {},
     "output_type": "display_data"
    }
   ],
   "source": [
    "_uni3 = _unique[_unique['len'] == 3]\n",
    "_uni3['unique'] = _uni3['unique'].apply(lambda x: sorted(x))\n",
    "_uni3['f'] = _uni3['unique'].apply(lambda x: x[0]).astype('str')\n",
    "_uni3['s'] = _uni3['unique'].apply(lambda x: x[1]).astype('str')\n",
    "_uni3['t'] = _uni3['unique'].apply(lambda x: x[2]).astype('str')\n",
    "_uni3['all'] = _uni3['f'] + _uni3['s'] + _uni3['t']\n",
    "display(_uni3.head(), _uni3.shape)"
   ]
  },
  {
   "cell_type": "code",
   "execution_count": 467,
   "id": "8f1e7cd1-0df4-46f2-88c2-0508da224813",
   "metadata": {},
   "outputs": [
    {
     "data": {
      "text/html": [
       "<div>\n",
       "<style scoped>\n",
       "    .dataframe tbody tr th:only-of-type {\n",
       "        vertical-align: middle;\n",
       "    }\n",
       "\n",
       "    .dataframe tbody tr th {\n",
       "        vertical-align: top;\n",
       "    }\n",
       "\n",
       "    .dataframe thead th {\n",
       "        text-align: right;\n",
       "    }\n",
       "</style>\n",
       "<table border=\"1\" class=\"dataframe\">\n",
       "  <thead>\n",
       "    <tr style=\"text-align: right;\">\n",
       "      <th></th>\n",
       "      <th>userID</th>\n",
       "      <th>unique</th>\n",
       "      <th>len</th>\n",
       "      <th>f</th>\n",
       "      <th>s</th>\n",
       "      <th>all</th>\n",
       "      <th>t</th>\n",
       "    </tr>\n",
       "  </thead>\n",
       "  <tbody>\n",
       "    <tr>\n",
       "      <th>0</th>\n",
       "      <td>165</td>\n",
       "      <td>[9]</td>\n",
       "      <td>1</td>\n",
       "      <td>9</td>\n",
       "      <td>NaN</td>\n",
       "      <td>NaN</td>\n",
       "      <td>NaN</td>\n",
       "    </tr>\n",
       "    <tr>\n",
       "      <th>1</th>\n",
       "      <td>218</td>\n",
       "      <td>[5]</td>\n",
       "      <td>1</td>\n",
       "      <td>5</td>\n",
       "      <td>NaN</td>\n",
       "      <td>NaN</td>\n",
       "      <td>NaN</td>\n",
       "    </tr>\n",
       "    <tr>\n",
       "      <th>2</th>\n",
       "      <td>275</td>\n",
       "      <td>[3]</td>\n",
       "      <td>1</td>\n",
       "      <td>3</td>\n",
       "      <td>NaN</td>\n",
       "      <td>NaN</td>\n",
       "      <td>NaN</td>\n",
       "    </tr>\n",
       "    <tr>\n",
       "      <th>3</th>\n",
       "      <td>319</td>\n",
       "      <td>[5]</td>\n",
       "      <td>1</td>\n",
       "      <td>5</td>\n",
       "      <td>NaN</td>\n",
       "      <td>NaN</td>\n",
       "      <td>NaN</td>\n",
       "    </tr>\n",
       "    <tr>\n",
       "      <th>4</th>\n",
       "      <td>344</td>\n",
       "      <td>[3]</td>\n",
       "      <td>1</td>\n",
       "      <td>3</td>\n",
       "      <td>NaN</td>\n",
       "      <td>NaN</td>\n",
       "      <td>NaN</td>\n",
       "    </tr>\n",
       "    <tr>\n",
       "      <th>...</th>\n",
       "      <td>...</td>\n",
       "      <td>...</td>\n",
       "      <td>...</td>\n",
       "      <td>...</td>\n",
       "      <td>...</td>\n",
       "      <td>...</td>\n",
       "      <td>...</td>\n",
       "    </tr>\n",
       "    <tr>\n",
       "      <th>6693</th>\n",
       "      <td>7427</td>\n",
       "      <td>[3, 4, 6]</td>\n",
       "      <td>3</td>\n",
       "      <td>3</td>\n",
       "      <td>4</td>\n",
       "      <td>346</td>\n",
       "      <td>6</td>\n",
       "    </tr>\n",
       "    <tr>\n",
       "      <th>6694</th>\n",
       "      <td>7428</td>\n",
       "      <td>[3, 4, 8]</td>\n",
       "      <td>3</td>\n",
       "      <td>3</td>\n",
       "      <td>4</td>\n",
       "      <td>348</td>\n",
       "      <td>8</td>\n",
       "    </tr>\n",
       "    <tr>\n",
       "      <th>6695</th>\n",
       "      <td>7429</td>\n",
       "      <td>[3, 4, 5]</td>\n",
       "      <td>3</td>\n",
       "      <td>3</td>\n",
       "      <td>4</td>\n",
       "      <td>345</td>\n",
       "      <td>5</td>\n",
       "    </tr>\n",
       "    <tr>\n",
       "      <th>6696</th>\n",
       "      <td>7435</td>\n",
       "      <td>[3, 5, 6]</td>\n",
       "      <td>3</td>\n",
       "      <td>3</td>\n",
       "      <td>5</td>\n",
       "      <td>356</td>\n",
       "      <td>6</td>\n",
       "    </tr>\n",
       "    <tr>\n",
       "      <th>6697</th>\n",
       "      <td>7438</td>\n",
       "      <td>[3, 4, 8]</td>\n",
       "      <td>3</td>\n",
       "      <td>3</td>\n",
       "      <td>4</td>\n",
       "      <td>348</td>\n",
       "      <td>8</td>\n",
       "    </tr>\n",
       "  </tbody>\n",
       "</table>\n",
       "<p>6698 rows × 7 columns</p>\n",
       "</div>"
      ],
      "text/plain": [
       "      userID     unique  len  f    s  all    t\n",
       "0        165        [9]    1  9  NaN  NaN  NaN\n",
       "1        218        [5]    1  5  NaN  NaN  NaN\n",
       "2        275        [3]    1  3  NaN  NaN  NaN\n",
       "3        319        [5]    1  5  NaN  NaN  NaN\n",
       "4        344        [3]    1  3  NaN  NaN  NaN\n",
       "...      ...        ...  ... ..  ...  ...  ...\n",
       "6693    7427  [3, 4, 6]    3  3    4  346    6\n",
       "6694    7428  [3, 4, 8]    3  3    4  348    8\n",
       "6695    7429  [3, 4, 5]    3  3    4  345    5\n",
       "6696    7435  [3, 5, 6]    3  3    5  356    6\n",
       "6697    7438  [3, 4, 8]    3  3    4  348    8\n",
       "\n",
       "[6698 rows x 7 columns]"
      ]
     },
     "execution_count": 467,
     "metadata": {},
     "output_type": "execute_result"
    }
   ],
   "source": [
    "uni_all = pd.concat([_uni1, _uni2])\n",
    "uni_all = pd.concat([uni_all, _uni3])\n",
    "uni_all = uni_all.reset_index()\n",
    "uni_all"
   ]
  },
  {
   "cell_type": "code",
   "execution_count": 468,
   "id": "b438e919-d2c1-4447-95f9-3c9b3426a114",
   "metadata": {},
   "outputs": [
    {
     "data": {
      "text/html": [
       "<div>\n",
       "<style scoped>\n",
       "    .dataframe tbody tr th:only-of-type {\n",
       "        vertical-align: middle;\n",
       "    }\n",
       "\n",
       "    .dataframe tbody tr th {\n",
       "        vertical-align: top;\n",
       "    }\n",
       "\n",
       "    .dataframe thead th {\n",
       "        text-align: right;\n",
       "    }\n",
       "</style>\n",
       "<table border=\"1\" class=\"dataframe\">\n",
       "  <thead>\n",
       "    <tr style=\"text-align: right;\">\n",
       "      <th></th>\n",
       "      <th>userID</th>\n",
       "      <th>assessmentItemID</th>\n",
       "      <th>testId</th>\n",
       "      <th>answerCode</th>\n",
       "      <th>Timestamp</th>\n",
       "      <th>KnowledgeTag</th>\n",
       "      <th>month</th>\n",
       "      <th>day</th>\n",
       "      <th>hour</th>\n",
       "      <th>minute</th>\n",
       "      <th>second</th>\n",
       "      <th>test_group</th>\n",
       "      <th>len</th>\n",
       "      <th>f</th>\n",
       "      <th>s</th>\n",
       "      <th>t</th>\n",
       "    </tr>\n",
       "  </thead>\n",
       "  <tbody>\n",
       "    <tr>\n",
       "      <th>0</th>\n",
       "      <td>0</td>\n",
       "      <td>A060001001</td>\n",
       "      <td>A060000001</td>\n",
       "      <td>1</td>\n",
       "      <td>2020-03-24 00:17:11</td>\n",
       "      <td>7224</td>\n",
       "      <td>3</td>\n",
       "      <td>24</td>\n",
       "      <td>0</td>\n",
       "      <td>17</td>\n",
       "      <td>11</td>\n",
       "      <td>6</td>\n",
       "      <td>3</td>\n",
       "      <td>2</td>\n",
       "      <td>6</td>\n",
       "      <td>8</td>\n",
       "    </tr>\n",
       "    <tr>\n",
       "      <th>1</th>\n",
       "      <td>0</td>\n",
       "      <td>A060001002</td>\n",
       "      <td>A060000001</td>\n",
       "      <td>1</td>\n",
       "      <td>2020-03-24 00:17:14</td>\n",
       "      <td>7225</td>\n",
       "      <td>3</td>\n",
       "      <td>24</td>\n",
       "      <td>0</td>\n",
       "      <td>17</td>\n",
       "      <td>14</td>\n",
       "      <td>6</td>\n",
       "      <td>3</td>\n",
       "      <td>2</td>\n",
       "      <td>6</td>\n",
       "      <td>8</td>\n",
       "    </tr>\n",
       "    <tr>\n",
       "      <th>2</th>\n",
       "      <td>0</td>\n",
       "      <td>A060001003</td>\n",
       "      <td>A060000001</td>\n",
       "      <td>1</td>\n",
       "      <td>2020-03-24 00:17:22</td>\n",
       "      <td>7225</td>\n",
       "      <td>3</td>\n",
       "      <td>24</td>\n",
       "      <td>0</td>\n",
       "      <td>17</td>\n",
       "      <td>22</td>\n",
       "      <td>6</td>\n",
       "      <td>3</td>\n",
       "      <td>2</td>\n",
       "      <td>6</td>\n",
       "      <td>8</td>\n",
       "    </tr>\n",
       "    <tr>\n",
       "      <th>3</th>\n",
       "      <td>0</td>\n",
       "      <td>A060001004</td>\n",
       "      <td>A060000001</td>\n",
       "      <td>1</td>\n",
       "      <td>2020-03-24 00:17:29</td>\n",
       "      <td>7225</td>\n",
       "      <td>3</td>\n",
       "      <td>24</td>\n",
       "      <td>0</td>\n",
       "      <td>17</td>\n",
       "      <td>29</td>\n",
       "      <td>6</td>\n",
       "      <td>3</td>\n",
       "      <td>2</td>\n",
       "      <td>6</td>\n",
       "      <td>8</td>\n",
       "    </tr>\n",
       "    <tr>\n",
       "      <th>4</th>\n",
       "      <td>0</td>\n",
       "      <td>A060001005</td>\n",
       "      <td>A060000001</td>\n",
       "      <td>1</td>\n",
       "      <td>2020-03-24 00:17:36</td>\n",
       "      <td>7225</td>\n",
       "      <td>3</td>\n",
       "      <td>24</td>\n",
       "      <td>0</td>\n",
       "      <td>17</td>\n",
       "      <td>36</td>\n",
       "      <td>6</td>\n",
       "      <td>3</td>\n",
       "      <td>2</td>\n",
       "      <td>6</td>\n",
       "      <td>8</td>\n",
       "    </tr>\n",
       "  </tbody>\n",
       "</table>\n",
       "</div>"
      ],
      "text/plain": [
       "   userID assessmentItemID      testId  answerCode           Timestamp  \\\n",
       "0       0       A060001001  A060000001           1 2020-03-24 00:17:11   \n",
       "1       0       A060001002  A060000001           1 2020-03-24 00:17:14   \n",
       "2       0       A060001003  A060000001           1 2020-03-24 00:17:22   \n",
       "3       0       A060001004  A060000001           1 2020-03-24 00:17:29   \n",
       "4       0       A060001005  A060000001           1 2020-03-24 00:17:36   \n",
       "\n",
       "   KnowledgeTag  month  day  hour  minute  second test_group  len  f  s  t  \n",
       "0          7224      3   24     0      17      11          6    3  2  6  8  \n",
       "1          7225      3   24     0      17      14          6    3  2  6  8  \n",
       "2          7225      3   24     0      17      22          6    3  2  6  8  \n",
       "3          7225      3   24     0      17      29          6    3  2  6  8  \n",
       "4          7225      3   24     0      17      36          6    3  2  6  8  "
      ]
     },
     "metadata": {},
     "output_type": "display_data"
    },
    {
     "data": {
      "text/plain": [
       "(2266586, 16)"
      ]
     },
     "metadata": {},
     "output_type": "display_data"
    }
   ],
   "source": [
    "train = pd.merge(train, uni_all[['userID','len','f','s','t']], on = 'userID', how='left')\n",
    "display(train.head(), train.shape)"
   ]
  },
  {
   "cell_type": "code",
   "execution_count": 509,
   "id": "8228edd2-b931-42b6-8d4f-35378c51bf02",
   "metadata": {},
   "outputs": [
    {
     "name": "stdout",
     "output_type": "stream",
     "text": [
      "done\n",
      "CPU times: user 12.3 s, sys: 488 ms, total: 12.8 s\n",
      "Wall time: 12.8 s\n"
     ]
    }
   ],
   "source": [
    "%%time\n",
    "ratio_by_diff = {k:[] for k in range(1,10)}\n",
    "for j in range(1,10):\n",
    "    for i in [1,2,3]:\n",
    "        try:\n",
    "            ratio = train[(train['len'] == i) & (train['testId'].apply(lambda x: x[2])==f'{j}')]['answerCode']\n",
    "            ratio = ratio.sum()/ratio.count() * 100\n",
    "        except:\n",
    "            ratio = 0\n",
    "        ratio_by_diff[j].append(ratio)\n",
    "print('done')"
   ]
  },
  {
   "cell_type": "code",
   "execution_count": 522,
   "id": "64c21e4b-41a3-4216-9d7f-2ec88a8e81cf",
   "metadata": {},
   "outputs": [
    {
     "data": {
      "text/plain": [
       "{1: [79.04155895804334, 80.95826012631179, 79.71523436004311],\n",
       " 2: [71.23940677966102, 73.70365251479475, 73.83462549064133],\n",
       " 3: [67.79810447432224, 69.27162019869066, 70.74175295430925],\n",
       " 4: [66.16017727128838, 68.8715953307393, 68.20082230279479],\n",
       " 5: [68.67058341303456, 67.04268787534491, 65.1278814489572],\n",
       " 6: [70.71253071253071, 71.98642544312214, 70.39622781529539],\n",
       " 7: [39.235500878734626, 52.08991450072571, 52.37995064110129],\n",
       " 8: [43.563902885936784, 51.28019148473199, 50.02224983384864],\n",
       " 9: [44.54713493530499, 49.1437323061215, 44.075819587415765]}"
      ]
     },
     "execution_count": 522,
     "metadata": {},
     "output_type": "execute_result"
    }
   ],
   "source": [
    "ratio_by_diff"
   ]
  },
  {
   "cell_type": "markdown",
   "id": "1f1aeeae-7363-4217-91d2-00fd066a0e2a",
   "metadata": {},
   "source": [
    "* 7,8,9 번에 대해서 정답률 차이가 많이 난다. 데이터 갯수(user 수) 가 적을 가능성이 있다."
   ]
  },
  {
   "cell_type": "code",
   "execution_count": 528,
   "id": "4cf069e5-42ae-4f51-bf55-d0f47fc7a9ee",
   "metadata": {},
   "outputs": [
    {
     "name": "stdout",
     "output_type": "stream",
     "text": [
      "7번 1문제 user 수 : 4\n",
      "7번 2문제 user 수 : 377\n",
      "7번 3문제 user 수 : 1305\n",
      "8번 1문제 user 수 : 7\n",
      "8번 2문제 user 수 : 303\n",
      "8번 3문제 user 수 : 1207\n",
      "9번 1문제 user 수 : 1\n",
      "9번 2문제 user 수 : 101\n",
      "9번 3문제 user 수 : 569\n"
     ]
    }
   ],
   "source": [
    "for i in [7,8,9]:\n",
    "    for j in [1,2,3]:\n",
    "        print(f\"{i}번 {j}문제 user 수 : {train[(train['len'] == j) & (train['testId'].apply(lambda x: x[2])==f'{i}')]['userID'].nunique()}\")"
   ]
  },
  {
   "cell_type": "markdown",
   "id": "78f482c7-0eee-4ca1-98e3-627c23929bc0",
   "metadata": {},
   "source": [
    "* user 수가 적어 과적합된 것으로 보인다.\n",
    "* user 별로 난이도를 다양하게 푼다고 해서 정답률이 크게 차이나지는 않는 것으로 보인다.\n",
    "* 그렇다면 각 난이도가 각 학년을 반영하지 않을 수도 있고, 꼭 많은 난이도를 푼다고 해서 선수학습을 한다고 가정해서도 안되겠다."
   ]
  },
  {
   "cell_type": "code",
   "execution_count": 241,
   "id": "df3ae8c4-5f82-4dcc-b94b-0d6f4629f8f0",
   "metadata": {},
   "outputs": [
    {
     "data": {
      "image/png": "[encoded data removed]",
      "text/plain": [
       "<Figure size 432x288 with 1 Axes>"
      ]
     },
     "metadata": {
      "needs_background": "light"
     },
     "output_type": "display_data"
    }
   ],
   "source": [
    "test_assess = train.groupby('test_group')['assessmentItemID'].nunique() # assessmentID : 사용자가 푼 문항의 일련 번호\n",
    "plt.bar(test_assess.index, test_assess.values);"
   ]
  },
  {
   "cell_type": "markdown",
   "id": "34f4ea2f-cc0d-4e7e-99da-3723f696f888",
   "metadata": {},
   "source": [
    "* test_group 에 따른 문항 가짓수(종류)는 위와 같다."
   ]
  },
  {
   "cell_type": "code",
   "execution_count": 246,
   "id": "13324555-3ce3-4bd2-a844-93e59a727922",
   "metadata": {},
   "outputs": [
    {
     "data": {
      "text/html": [
       "<div>\n",
       "<style scoped>\n",
       "    .dataframe tbody tr th:only-of-type {\n",
       "        vertical-align: middle;\n",
       "    }\n",
       "\n",
       "    .dataframe tbody tr th {\n",
       "        vertical-align: top;\n",
       "    }\n",
       "\n",
       "    .dataframe thead th {\n",
       "        text-align: right;\n",
       "    }\n",
       "</style>\n",
       "<table border=\"1\" class=\"dataframe\">\n",
       "  <thead>\n",
       "    <tr style=\"text-align: right;\">\n",
       "      <th></th>\n",
       "      <th>userID</th>\n",
       "      <th>answerCode</th>\n",
       "    </tr>\n",
       "  </thead>\n",
       "  <tbody>\n",
       "    <tr>\n",
       "      <th>count</th>\n",
       "      <td>1537.000000</td>\n",
       "      <td>1537.000000</td>\n",
       "    </tr>\n",
       "    <tr>\n",
       "      <th>mean</th>\n",
       "      <td>1474.681848</td>\n",
       "      <td>0.667982</td>\n",
       "    </tr>\n",
       "    <tr>\n",
       "      <th>std</th>\n",
       "      <td>533.526783</td>\n",
       "      <td>0.138903</td>\n",
       "    </tr>\n",
       "    <tr>\n",
       "      <th>min</th>\n",
       "      <td>172.000000</td>\n",
       "      <td>0.327186</td>\n",
       "    </tr>\n",
       "    <tr>\n",
       "      <th>25%</th>\n",
       "      <td>1320.000000</td>\n",
       "      <td>0.561819</td>\n",
       "    </tr>\n",
       "    <tr>\n",
       "      <th>50%</th>\n",
       "      <td>1400.000000</td>\n",
       "      <td>0.680519</td>\n",
       "    </tr>\n",
       "    <tr>\n",
       "      <th>75%</th>\n",
       "      <td>1602.000000</td>\n",
       "      <td>0.778439</td>\n",
       "    </tr>\n",
       "    <tr>\n",
       "      <th>max</th>\n",
       "      <td>3960.000000</td>\n",
       "      <td>0.955474</td>\n",
       "    </tr>\n",
       "  </tbody>\n",
       "</table>\n",
       "</div>"
      ],
      "text/plain": [
       "            userID   answerCode\n",
       "count  1537.000000  1537.000000\n",
       "mean   1474.681848     0.667982\n",
       "std     533.526783     0.138903\n",
       "min     172.000000     0.327186\n",
       "25%    1320.000000     0.561819\n",
       "50%    1400.000000     0.680519\n",
       "75%    1602.000000     0.778439\n",
       "max    3960.000000     0.955474"
      ]
     },
     "execution_count": 246,
     "metadata": {},
     "output_type": "execute_result"
    }
   ],
   "source": [
    "# user 별 정답률을 봤으니, test 별 정답률의 전반적인 분포도 확인해보자.\n",
    "def percentile(s):\n",
    "    return np.sum(s) / len(s)\n",
    "\n",
    "test_groupby = train.groupby('testId').agg({\n",
    "    'userID': 'count',\n",
    "    'answerCode': percentile\n",
    "})\n",
    "test_groupby.describe()"
   ]
  },
  {
   "cell_type": "code",
   "execution_count": 254,
   "id": "8469a212-cb63-4e87-bbb7-11e942c6b9d1",
   "metadata": {},
   "outputs": [
    {
     "data": {
      "image/png": "[encoded data removed]",
      "text/plain": [
       "<Figure size 432x288 with 1 Axes>"
      ]
     },
     "metadata": {
      "needs_background": "light"
     },
     "output_type": "display_data"
    }
   ],
   "source": [
    "fig, ax = plt.subplots()\n",
    "plt.hist(test_groupby['answerCode'], bins = 20, rwidth=0.9)\n",
    "ax.set_title('Test Answer Rate Histogram')\n",
    "ax.set_xlabel('Answer Rate')\n",
    "ax.set_ylabel('Count')\n",
    "ax.axvline(test_groupby['answerCode'].mean(), color='red')\n",
    "ax.grid(b=True);"
   ]
  },
  {
   "cell_type": "markdown",
   "id": "8457836d-7be8-4ce6-941c-6b8cb4cf74f8",
   "metadata": {},
   "source": [
    "----\n",
    "## 3) EDA"
   ]
  },
  {
   "cell_type": "code",
   "execution_count": 263,
   "id": "b8a9601d-4b56-491b-9b9d-818d62ac2996",
   "metadata": {},
   "outputs": [
    {
     "data": {
      "text/plain": [
       "(23, 11271, 912)"
      ]
     },
     "execution_count": 263,
     "metadata": {},
     "output_type": "execute_result"
    }
   ],
   "source": [
    "# by tag\n",
    "train['KnowledgeTag'].min(), train['KnowledgeTag'].max(), train['KnowledgeTag'].nunique()"
   ]
  },
  {
   "cell_type": "code",
   "execution_count": 264,
   "id": "6c92963c-d259-4fb2-b58d-9e7ab9a1f1b4",
   "metadata": {},
   "outputs": [],
   "source": [
    "# tag 노출에 따른 정답률 분포\n",
    "tag_answer = train.groupby('KnowledgeTag')['answerCode']\n",
    "tag_sum = tag_answer.sum()\n",
    "tag_count = tag_answer.count()"
   ]
  },
  {
   "cell_type": "code",
   "execution_count": 291,
   "id": "ce7b8196-b3f5-4ac7-a312-8a5f3454ef3c",
   "metadata": {},
   "outputs": [
    {
     "data": {
      "text/html": [
       "<div>\n",
       "<style scoped>\n",
       "    .dataframe tbody tr th:only-of-type {\n",
       "        vertical-align: middle;\n",
       "    }\n",
       "\n",
       "    .dataframe tbody tr th {\n",
       "        vertical-align: top;\n",
       "    }\n",
       "\n",
       "    .dataframe thead th {\n",
       "        text-align: right;\n",
       "    }\n",
       "</style>\n",
       "<table border=\"1\" class=\"dataframe\">\n",
       "  <thead>\n",
       "    <tr style=\"text-align: right;\">\n",
       "      <th></th>\n",
       "      <th>tag_correct</th>\n",
       "      <th>tag_counts</th>\n",
       "      <th>answer_ratio</th>\n",
       "      <th>tag_incorrect</th>\n",
       "    </tr>\n",
       "    <tr>\n",
       "      <th>KnowledgeTag</th>\n",
       "      <th></th>\n",
       "      <th></th>\n",
       "      <th></th>\n",
       "      <th></th>\n",
       "    </tr>\n",
       "  </thead>\n",
       "  <tbody>\n",
       "    <tr>\n",
       "      <th>23</th>\n",
       "      <td>1052.0</td>\n",
       "      <td>1800</td>\n",
       "      <td>58.444444</td>\n",
       "      <td>748.0</td>\n",
       "    </tr>\n",
       "    <tr>\n",
       "      <th>24</th>\n",
       "      <td>220.0</td>\n",
       "      <td>358</td>\n",
       "      <td>61.452514</td>\n",
       "      <td>138.0</td>\n",
       "    </tr>\n",
       "    <tr>\n",
       "      <th>25</th>\n",
       "      <td>79.0</td>\n",
       "      <td>92</td>\n",
       "      <td>85.869565</td>\n",
       "      <td>13.0</td>\n",
       "    </tr>\n",
       "    <tr>\n",
       "      <th>26</th>\n",
       "      <td>1494.0</td>\n",
       "      <td>2432</td>\n",
       "      <td>61.430921</td>\n",
       "      <td>938.0</td>\n",
       "    </tr>\n",
       "    <tr>\n",
       "      <th>30</th>\n",
       "      <td>289.0</td>\n",
       "      <td>539</td>\n",
       "      <td>53.617811</td>\n",
       "      <td>250.0</td>\n",
       "    </tr>\n",
       "  </tbody>\n",
       "</table>\n",
       "</div>"
      ],
      "text/plain": [
       "              tag_correct  tag_counts  answer_ratio  tag_incorrect\n",
       "KnowledgeTag                                                      \n",
       "23                 1052.0        1800     58.444444          748.0\n",
       "24                  220.0         358     61.452514          138.0\n",
       "25                   79.0          92     85.869565           13.0\n",
       "26                 1494.0        2432     61.430921          938.0\n",
       "30                  289.0         539     53.617811          250.0"
      ]
     },
     "metadata": {},
     "output_type": "display_data"
    },
    {
     "data": {
      "text/plain": [
       "(912, 4)"
      ]
     },
     "metadata": {},
     "output_type": "display_data"
    }
   ],
   "source": [
    "tag = tag_sum.to_frame()\n",
    "tag = pd.concat([tag, tag_count], 1)\n",
    "tag.columns = ['tag_correct','tag_counts']\n",
    "tag['answer_ratio'] = tag['tag_correct']/tag['tag_counts']*100\n",
    "tag['tag_incorrect'] = tag['tag_counts'] - tag['tag_correct'] \n",
    "display(tag.head(), tag.shape)"
   ]
  },
  {
   "cell_type": "code",
   "execution_count": 360,
   "id": "2574a892-f4e2-44d7-861c-4098b26d9755",
   "metadata": {},
   "outputs": [
    {
     "data": {
      "image/png": "[encoded data removed]",
      "text/plain": [
       "<Figure size 1152x288 with 1 Axes>"
      ]
     },
     "metadata": {
      "needs_background": "light"
     },
     "output_type": "display_data"
    }
   ],
   "source": [
    "plt.figure(figsize=(16,4))\n",
    "sns.regplot(data=tag, x='tag_counts', y='answer_ratio',\n",
    "           line_kws={\"color\": \"orange\"}, scatter_kws={'alpha': 0.6});\n",
    "plt.show();"
   ]
  },
  {
   "cell_type": "code",
   "execution_count": 300,
   "id": "35747a39-9f19-42c8-b503-b1510c0de04f",
   "metadata": {},
   "outputs": [],
   "source": [
    "# 같은 문항 수 별 체크"
   ]
  },
  {
   "cell_type": "code",
   "execution_count": 314,
   "id": "dae9453f-673b-4308-90ec-c78bb25a031f",
   "metadata": {},
   "outputs": [
    {
     "data": {
      "text/html": [
       "<div>\n",
       "<style scoped>\n",
       "    .dataframe tbody tr th:only-of-type {\n",
       "        vertical-align: middle;\n",
       "    }\n",
       "\n",
       "    .dataframe tbody tr th {\n",
       "        vertical-align: top;\n",
       "    }\n",
       "\n",
       "    .dataframe thead th {\n",
       "        text-align: right;\n",
       "    }\n",
       "</style>\n",
       "<table border=\"1\" class=\"dataframe\">\n",
       "  <thead>\n",
       "    <tr style=\"text-align: right;\">\n",
       "      <th></th>\n",
       "      <th>userID</th>\n",
       "      <th>prob_count</th>\n",
       "    </tr>\n",
       "  </thead>\n",
       "  <tbody>\n",
       "    <tr>\n",
       "      <th>0</th>\n",
       "      <td>0</td>\n",
       "      <td>745</td>\n",
       "    </tr>\n",
       "    <tr>\n",
       "      <th>1</th>\n",
       "      <td>1</td>\n",
       "      <td>933</td>\n",
       "    </tr>\n",
       "    <tr>\n",
       "      <th>2</th>\n",
       "      <td>2</td>\n",
       "      <td>276</td>\n",
       "    </tr>\n",
       "    <tr>\n",
       "      <th>3</th>\n",
       "      <td>5</td>\n",
       "      <td>833</td>\n",
       "    </tr>\n",
       "    <tr>\n",
       "      <th>4</th>\n",
       "      <td>6</td>\n",
       "      <td>921</td>\n",
       "    </tr>\n",
       "  </tbody>\n",
       "</table>\n",
       "</div>"
      ],
      "text/plain": [
       "   userID  prob_count\n",
       "0       0         745\n",
       "1       1         933\n",
       "2       2         276\n",
       "3       5         833\n",
       "4       6         921"
      ]
     },
     "metadata": {},
     "output_type": "display_data"
    },
    {
     "data": {
      "text/plain": [
       "(6698, 2)"
      ]
     },
     "metadata": {},
     "output_type": "display_data"
    }
   ],
   "source": [
    "prob_count_by_user = train.groupby('userID')['answerCode'].count().to_frame('prob_count').reset_index()\n",
    "display(prob_count_by_user.head(), prob_count_by_user.shape)"
   ]
  },
  {
   "cell_type": "code",
   "execution_count": 315,
   "id": "c79fc17d-0088-47e9-9060-475ce16563c4",
   "metadata": {},
   "outputs": [
    {
     "data": {
      "text/html": [
       "<div>\n",
       "<style scoped>\n",
       "    .dataframe tbody tr th:only-of-type {\n",
       "        vertical-align: middle;\n",
       "    }\n",
       "\n",
       "    .dataframe tbody tr th {\n",
       "        vertical-align: top;\n",
       "    }\n",
       "\n",
       "    .dataframe thead th {\n",
       "        text-align: right;\n",
       "    }\n",
       "</style>\n",
       "<table border=\"1\" class=\"dataframe\">\n",
       "  <thead>\n",
       "    <tr style=\"text-align: right;\">\n",
       "      <th></th>\n",
       "      <th>userID</th>\n",
       "      <th>assessmentItemID</th>\n",
       "      <th>testId</th>\n",
       "      <th>answerCode</th>\n",
       "      <th>Timestamp</th>\n",
       "      <th>KnowledgeTag</th>\n",
       "      <th>month</th>\n",
       "      <th>day</th>\n",
       "      <th>hour</th>\n",
       "      <th>minute</th>\n",
       "      <th>second</th>\n",
       "      <th>test_group</th>\n",
       "      <th>prob_count</th>\n",
       "    </tr>\n",
       "  </thead>\n",
       "  <tbody>\n",
       "    <tr>\n",
       "      <th>0</th>\n",
       "      <td>0</td>\n",
       "      <td>A060001001</td>\n",
       "      <td>A060000001</td>\n",
       "      <td>1</td>\n",
       "      <td>2020-03-24 00:17:11</td>\n",
       "      <td>7224</td>\n",
       "      <td>3</td>\n",
       "      <td>24</td>\n",
       "      <td>0</td>\n",
       "      <td>17</td>\n",
       "      <td>11</td>\n",
       "      <td>6</td>\n",
       "      <td>745</td>\n",
       "    </tr>\n",
       "    <tr>\n",
       "      <th>1</th>\n",
       "      <td>0</td>\n",
       "      <td>A060001002</td>\n",
       "      <td>A060000001</td>\n",
       "      <td>1</td>\n",
       "      <td>2020-03-24 00:17:14</td>\n",
       "      <td>7225</td>\n",
       "      <td>3</td>\n",
       "      <td>24</td>\n",
       "      <td>0</td>\n",
       "      <td>17</td>\n",
       "      <td>14</td>\n",
       "      <td>6</td>\n",
       "      <td>745</td>\n",
       "    </tr>\n",
       "    <tr>\n",
       "      <th>2</th>\n",
       "      <td>0</td>\n",
       "      <td>A060001003</td>\n",
       "      <td>A060000001</td>\n",
       "      <td>1</td>\n",
       "      <td>2020-03-24 00:17:22</td>\n",
       "      <td>7225</td>\n",
       "      <td>3</td>\n",
       "      <td>24</td>\n",
       "      <td>0</td>\n",
       "      <td>17</td>\n",
       "      <td>22</td>\n",
       "      <td>6</td>\n",
       "      <td>745</td>\n",
       "    </tr>\n",
       "    <tr>\n",
       "      <th>3</th>\n",
       "      <td>0</td>\n",
       "      <td>A060001004</td>\n",
       "      <td>A060000001</td>\n",
       "      <td>1</td>\n",
       "      <td>2020-03-24 00:17:29</td>\n",
       "      <td>7225</td>\n",
       "      <td>3</td>\n",
       "      <td>24</td>\n",
       "      <td>0</td>\n",
       "      <td>17</td>\n",
       "      <td>29</td>\n",
       "      <td>6</td>\n",
       "      <td>745</td>\n",
       "    </tr>\n",
       "    <tr>\n",
       "      <th>4</th>\n",
       "      <td>0</td>\n",
       "      <td>A060001005</td>\n",
       "      <td>A060000001</td>\n",
       "      <td>1</td>\n",
       "      <td>2020-03-24 00:17:36</td>\n",
       "      <td>7225</td>\n",
       "      <td>3</td>\n",
       "      <td>24</td>\n",
       "      <td>0</td>\n",
       "      <td>17</td>\n",
       "      <td>36</td>\n",
       "      <td>6</td>\n",
       "      <td>745</td>\n",
       "    </tr>\n",
       "  </tbody>\n",
       "</table>\n",
       "</div>"
      ],
      "text/plain": [
       "   userID assessmentItemID      testId  answerCode           Timestamp  \\\n",
       "0       0       A060001001  A060000001           1 2020-03-24 00:17:11   \n",
       "1       0       A060001002  A060000001           1 2020-03-24 00:17:14   \n",
       "2       0       A060001003  A060000001           1 2020-03-24 00:17:22   \n",
       "3       0       A060001004  A060000001           1 2020-03-24 00:17:29   \n",
       "4       0       A060001005  A060000001           1 2020-03-24 00:17:36   \n",
       "\n",
       "   KnowledgeTag  month  day  hour  minute  second test_group  prob_count  \n",
       "0          7224      3   24     0      17      11          6         745  \n",
       "1          7225      3   24     0      17      14          6         745  \n",
       "2          7225      3   24     0      17      22          6         745  \n",
       "3          7225      3   24     0      17      29          6         745  \n",
       "4          7225      3   24     0      17      36          6         745  "
      ]
     },
     "metadata": {},
     "output_type": "display_data"
    },
    {
     "data": {
      "text/plain": [
       "(2266586, 13)"
      ]
     },
     "metadata": {},
     "output_type": "display_data"
    }
   ],
   "source": [
    "train = pd.merge(train, prob_count_by_user, how = 'left', on = 'userID')\n",
    "display(train.head(), train.shape)"
   ]
  },
  {
   "cell_type": "code",
   "execution_count": 338,
   "id": "549940ed-51c2-4383-8201-eff96862e297",
   "metadata": {},
   "outputs": [
    {
     "data": {
      "text/html": [
       "<div>\n",
       "<style scoped>\n",
       "    .dataframe tbody tr th:only-of-type {\n",
       "        vertical-align: middle;\n",
       "    }\n",
       "\n",
       "    .dataframe tbody tr th {\n",
       "        vertical-align: top;\n",
       "    }\n",
       "\n",
       "    .dataframe thead th {\n",
       "        text-align: right;\n",
       "    }\n",
       "</style>\n",
       "<table border=\"1\" class=\"dataframe\">\n",
       "  <thead>\n",
       "    <tr style=\"text-align: right;\">\n",
       "      <th></th>\n",
       "      <th>prob_count</th>\n",
       "      <th>ratio</th>\n",
       "    </tr>\n",
       "  </thead>\n",
       "  <tbody>\n",
       "    <tr>\n",
       "      <th>0</th>\n",
       "      <td>9</td>\n",
       "      <td>0.555556</td>\n",
       "    </tr>\n",
       "    <tr>\n",
       "      <th>1</th>\n",
       "      <td>13</td>\n",
       "      <td>0.666667</td>\n",
       "    </tr>\n",
       "    <tr>\n",
       "      <th>2</th>\n",
       "      <td>14</td>\n",
       "      <td>0.629870</td>\n",
       "    </tr>\n",
       "    <tr>\n",
       "      <th>3</th>\n",
       "      <td>15</td>\n",
       "      <td>0.612963</td>\n",
       "    </tr>\n",
       "    <tr>\n",
       "      <th>4</th>\n",
       "      <td>16</td>\n",
       "      <td>0.547697</td>\n",
       "    </tr>\n",
       "  </tbody>\n",
       "</table>\n",
       "</div>"
      ],
      "text/plain": [
       "   prob_count     ratio\n",
       "0           9  0.555556\n",
       "1          13  0.666667\n",
       "2          14  0.629870\n",
       "3          15  0.612963\n",
       "4          16  0.547697"
      ]
     },
     "execution_count": 338,
     "metadata": {},
     "output_type": "execute_result"
    }
   ],
   "source": [
    "prob_count = train.groupby('prob_count')['answerCode'].agg(percentile).to_frame('ratio').reset_index()\n",
    "prob_count.head()"
   ]
  },
  {
   "cell_type": "code",
   "execution_count": 339,
   "id": "b33ec643-2158-4ddd-875f-a7806f9208f0",
   "metadata": {},
   "outputs": [
    {
     "data": {
      "image/png": "[encoded data removed]",
      "text/plain": [
       "<Figure size 432x288 with 1 Axes>"
      ]
     },
     "metadata": {
      "needs_background": "light"
     },
     "output_type": "display_data"
    }
   ],
   "source": [
    "sns.regplot(data=prob_count, x='prob_count', y='ratio',\n",
    "           line_kws={\"color\": \"orange\"}, scatter_kws={'alpha': 0.6});"
   ]
  },
  {
   "cell_type": "markdown",
   "id": "f18b0645-40c6-4a0f-babe-7d00be13b93b",
   "metadata": {},
   "source": [
    "* Daily mission 1\n",
    "    : 문제 푼 수에 따른 정답률 : 많이 풀 수록 올라가는 경향은 보인다."
   ]
  },
  {
   "cell_type": "code",
   "execution_count": 356,
   "id": "85f87c4b-54eb-4b8e-bbba-d4101fde1d12",
   "metadata": {},
   "outputs": [
    {
     "data": {
      "text/html": [
       "<div>\n",
       "<style scoped>\n",
       "    .dataframe tbody tr th:only-of-type {\n",
       "        vertical-align: middle;\n",
       "    }\n",
       "\n",
       "    .dataframe tbody tr th {\n",
       "        vertical-align: top;\n",
       "    }\n",
       "\n",
       "    .dataframe thead th {\n",
       "        text-align: right;\n",
       "    }\n",
       "</style>\n",
       "<table border=\"1\" class=\"dataframe\">\n",
       "  <thead>\n",
       "    <tr style=\"text-align: right;\">\n",
       "      <th></th>\n",
       "      <th>prob_count</th>\n",
       "      <th>ratio</th>\n",
       "    </tr>\n",
       "  </thead>\n",
       "  <tbody>\n",
       "    <tr>\n",
       "      <th>0</th>\n",
       "      <td>9</td>\n",
       "      <td>0.555556</td>\n",
       "    </tr>\n",
       "    <tr>\n",
       "      <th>1</th>\n",
       "      <td>13</td>\n",
       "      <td>0.666667</td>\n",
       "    </tr>\n",
       "    <tr>\n",
       "      <th>2</th>\n",
       "      <td>14</td>\n",
       "      <td>0.629870</td>\n",
       "    </tr>\n",
       "    <tr>\n",
       "      <th>3</th>\n",
       "      <td>15</td>\n",
       "      <td>0.612963</td>\n",
       "    </tr>\n",
       "    <tr>\n",
       "      <th>4</th>\n",
       "      <td>16</td>\n",
       "      <td>0.547697</td>\n",
       "    </tr>\n",
       "    <tr>\n",
       "      <th>...</th>\n",
       "      <td>...</td>\n",
       "      <td>...</td>\n",
       "    </tr>\n",
       "    <tr>\n",
       "      <th>1171</th>\n",
       "      <td>1773</td>\n",
       "      <td>0.875353</td>\n",
       "    </tr>\n",
       "    <tr>\n",
       "      <th>1172</th>\n",
       "      <td>1774</td>\n",
       "      <td>0.735626</td>\n",
       "    </tr>\n",
       "    <tr>\n",
       "      <th>1173</th>\n",
       "      <td>1777</td>\n",
       "      <td>0.656162</td>\n",
       "    </tr>\n",
       "    <tr>\n",
       "      <th>1174</th>\n",
       "      <td>1847</td>\n",
       "      <td>0.124526</td>\n",
       "    </tr>\n",
       "    <tr>\n",
       "      <th>1175</th>\n",
       "      <td>1860</td>\n",
       "      <td>0.598387</td>\n",
       "    </tr>\n",
       "  </tbody>\n",
       "</table>\n",
       "<p>1176 rows × 2 columns</p>\n",
       "</div>"
      ],
      "text/plain": [
       "      prob_count     ratio\n",
       "0              9  0.555556\n",
       "1             13  0.666667\n",
       "2             14  0.629870\n",
       "3             15  0.612963\n",
       "4             16  0.547697\n",
       "...          ...       ...\n",
       "1171        1773  0.875353\n",
       "1172        1774  0.735626\n",
       "1173        1777  0.656162\n",
       "1174        1847  0.124526\n",
       "1175        1860  0.598387\n",
       "\n",
       "[1176 rows x 2 columns]"
      ]
     },
     "execution_count": 356,
     "metadata": {},
     "output_type": "execute_result"
    }
   ],
   "source": [
    "prob_count"
   ]
  },
  {
   "cell_type": "code",
   "execution_count": 535,
   "id": "d76ea2d3-9faf-4827-9d09-5dec7ca2c591",
   "metadata": {},
   "outputs": [],
   "source": [
    "bins = 100\n",
    "prob_count['bins'] = pd.cut(prob_count['prob_count'],\n",
    "                             [i * (prob_count.prob_count.max() - prob_count.prob_count.min()) // bins for i in range(bins)])"
   ]
  },
  {
   "cell_type": "code",
   "execution_count": 538,
   "id": "892b6038-7603-4340-b6b7-2689cd07d07e",
   "metadata": {},
   "outputs": [
    {
     "data": {
      "text/html": [
       "<div>\n",
       "<style scoped>\n",
       "    .dataframe tbody tr th:only-of-type {\n",
       "        vertical-align: middle;\n",
       "    }\n",
       "\n",
       "    .dataframe tbody tr th {\n",
       "        vertical-align: top;\n",
       "    }\n",
       "\n",
       "    .dataframe thead th {\n",
       "        text-align: right;\n",
       "    }\n",
       "</style>\n",
       "<table border=\"1\" class=\"dataframe\">\n",
       "  <thead>\n",
       "    <tr style=\"text-align: right;\">\n",
       "      <th></th>\n",
       "      <th>prob_count</th>\n",
       "      <th>ratio</th>\n",
       "    </tr>\n",
       "    <tr>\n",
       "      <th>bins</th>\n",
       "      <th></th>\n",
       "      <th></th>\n",
       "    </tr>\n",
       "  </thead>\n",
       "  <tbody>\n",
       "    <tr>\n",
       "      <th>(0, 18]</th>\n",
       "      <td>14.571429</td>\n",
       "      <td>0.590656</td>\n",
       "    </tr>\n",
       "    <tr>\n",
       "      <th>(18, 37]</th>\n",
       "      <td>28.000000</td>\n",
       "      <td>0.569450</td>\n",
       "    </tr>\n",
       "    <tr>\n",
       "      <th>(37, 55]</th>\n",
       "      <td>46.500000</td>\n",
       "      <td>0.592249</td>\n",
       "    </tr>\n",
       "    <tr>\n",
       "      <th>(55, 74]</th>\n",
       "      <td>65.000000</td>\n",
       "      <td>0.611394</td>\n",
       "    </tr>\n",
       "    <tr>\n",
       "      <th>(74, 92]</th>\n",
       "      <td>83.500000</td>\n",
       "      <td>0.614897</td>\n",
       "    </tr>\n",
       "  </tbody>\n",
       "</table>\n",
       "</div>"
      ],
      "text/plain": [
       "          prob_count     ratio\n",
       "bins                          \n",
       "(0, 18]    14.571429  0.590656\n",
       "(18, 37]   28.000000  0.569450\n",
       "(37, 55]   46.500000  0.592249\n",
       "(55, 74]   65.000000  0.611394\n",
       "(74, 92]   83.500000  0.614897"
      ]
     },
     "execution_count": 538,
     "metadata": {},
     "output_type": "execute_result"
    }
   ],
   "source": [
    "prob_count2 = prob_count.groupby('bins').mean()\n",
    "prob_count2.head()"
   ]
  },
  {
   "cell_type": "code",
   "execution_count": 539,
   "id": "7909eafa-8cb0-481a-bb01-aa3f4fbc4069",
   "metadata": {},
   "outputs": [],
   "source": [
    "prob_count2['mid'] = list(map(lambda x: (x.left + x.right)//2 , prob_count2.index))"
   ]
  },
  {
   "cell_type": "code",
   "execution_count": 544,
   "id": "2abede10-3380-4cf1-b976-fcf92ce14355",
   "metadata": {},
   "outputs": [
    {
     "data": {
      "image/png": "[encoded data removed]",
      "text/plain": [
       "<Figure size 432x288 with 1 Axes>"
      ]
     },
     "metadata": {
      "needs_background": "light"
     },
     "output_type": "display_data"
    }
   ],
   "source": [
    "fig = plt.figure()\n",
    "sns.regplot(data=prob_count2, x='mid', y='ratio',\n",
    "           line_kws={\"color\": \"orange\"}, scatter_kws={'alpha': 0.6})\n",
    "\n",
    "ax.set_title(f'# of Items - Answer Rate | bins={bins}')\n",
    "ax.set_xlabel('# of Items')\n",
    "ax.set_ylabel('Answer Rate')\n",
    "plt.show();"
   ]
  },
  {
   "cell_type": "markdown",
   "id": "d5e29150-5dbf-448d-a713-b33d52b12617",
   "metadata": {},
   "source": [
    "* 문제를 많이 풀 수록 정답률이 올라가는 추세를 확인할 수 있다."
   ]
  },
  {
   "cell_type": "code",
   "execution_count": null,
   "id": "bf2072f9-4d47-4483-a58b-03d12708e9d2",
   "metadata": {},
   "outputs": [],
   "source": []
  }
 ],
 "metadata": {
  "kernelspec": {
   "name": "python3",
   "display_name": "Python 3.8.3 64-bit ('base': conda)"
  },
  "language_info": {
   "codemirror_mode": {
    "name": "ipython",
    "version": 3
   },
   "file_extension": ".py",
   "mimetype": "text/x-python",
   "name": "python",
   "nbconvert_exporter": "python",
   "pygments_lexer": "ipython3",
   "version": "3.8.3"
  },
  "interpreter": {
   "hash": "b09a06b8f539e05e279c863b9f8620b5917bda038b6781670385c0d17a2c9673"
  }
 },
 "nbformat": 4,
 "nbformat_minor": 5
}